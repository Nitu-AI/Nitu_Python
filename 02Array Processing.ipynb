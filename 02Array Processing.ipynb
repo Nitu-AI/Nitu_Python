{
 "cells": [
  {
   "cell_type": "code",
   "execution_count": 1,
   "id": "637b93da-26e7-40d1-a273-c7b86e682b13",
   "metadata": {},
   "outputs": [],
   "source": [
    "import numpy as np"
   ]
  },
  {
   "cell_type": "markdown",
   "id": "0a380559-94ad-4bf2-b7f3-5413af858e60",
   "metadata": {},
   "source": [
    "##### Create the array"
   ]
  },
  {
   "cell_type": "code",
   "execution_count": 3,
   "id": "f4e0d8bf-4fc8-43d1-8887-b2789a82d62e",
   "metadata": {},
   "outputs": [],
   "source": [
    "x = np.array([56,12,35,48,71,11,28])"
   ]
  },
  {
   "cell_type": "code",
   "execution_count": 4,
   "id": "78a2e171-0763-48e8-8ffd-1cb52d6ad172",
   "metadata": {},
   "outputs": [
    {
     "name": "stdout",
     "output_type": "stream",
     "text": [
      "[56 12 35 48 71 11 28]\n"
     ]
    }
   ],
   "source": [
    "print(x)"
   ]
  },
  {
   "cell_type": "code",
   "execution_count": 5,
   "id": "11148173-e3a8-46e6-9e5b-e65dfaed30b4",
   "metadata": {},
   "outputs": [
    {
     "data": {
      "text/plain": [
       "numpy.ndarray"
      ]
     },
     "execution_count": 5,
     "metadata": {},
     "output_type": "execute_result"
    }
   ],
   "source": [
    "type(x)"
   ]
  },
  {
   "cell_type": "code",
   "execution_count": 6,
   "id": "ba5a39b4-f390-428c-a8ec-3ef206090d7a",
   "metadata": {},
   "outputs": [
    {
     "data": {
      "text/plain": [
       "1"
      ]
     },
     "execution_count": 6,
     "metadata": {},
     "output_type": "execute_result"
    }
   ],
   "source": [
    "x.ndim"
   ]
  },
  {
   "cell_type": "code",
   "execution_count": 7,
   "id": "87b0b07c-a4e7-4696-90fa-7db0f8640ff2",
   "metadata": {},
   "outputs": [
    {
     "data": {
      "text/plain": [
       "array([56, 12, 35, 48, 71, 11, 28])"
      ]
     },
     "execution_count": 7,
     "metadata": {},
     "output_type": "execute_result"
    }
   ],
   "source": [
    "x"
   ]
  },
  {
   "cell_type": "code",
   "execution_count": 8,
   "id": "8fcd2a80-198a-436c-bfd9-f2787a530df2",
   "metadata": {},
   "outputs": [
    {
     "data": {
      "text/plain": [
       "dtype('int32')"
      ]
     },
     "execution_count": 8,
     "metadata": {},
     "output_type": "execute_result"
    }
   ],
   "source": [
    "x.dtype"
   ]
  },
  {
   "cell_type": "code",
   "execution_count": 9,
   "id": "ea2d8065-f64a-470a-b391-f314fdd444bd",
   "metadata": {},
   "outputs": [],
   "source": [
    "a = 35874141585412789645611233588756566"
   ]
  },
  {
   "cell_type": "code",
   "execution_count": 10,
   "id": "f9c13e3e-58b6-4300-a5ca-13d32bed2da0",
   "metadata": {},
   "outputs": [
    {
     "data": {
      "text/plain": [
       "35874141585412789645611233588756566"
      ]
     },
     "execution_count": 10,
     "metadata": {},
     "output_type": "execute_result"
    }
   ],
   "source": [
    "a"
   ]
  },
  {
   "cell_type": "code",
   "execution_count": 11,
   "id": "61aa481f-e552-41f9-8da7-d50617ec85bf",
   "metadata": {},
   "outputs": [],
   "source": [
    "a=458**234"
   ]
  },
  {
   "cell_type": "code",
   "execution_count": 12,
   "id": "f5f6ef33-11b8-4705-9a5e-2a24c2ed8bad",
   "metadata": {},
   "outputs": [
    {
     "data": {
      "text/plain": [
       "43905795767991864094969008433853843727765190672755424260323651596770908692463752063349544254446208579317901745636582787109593466824101355870144112225510376448295784994526579552543018884305543044493309296858682300669941538488425682799969171583395923990520786806290244859200327120798115376585778512958867490512130433791363025204928943749007327241909748104181755555514716123701093390972916167581670320194990851096421039547741011361977637389952485047878711869438405433275738041175467479259435617835450594113776974466595004076207385764811051401646402183602801610928800855856199921561691027370889997365249680218466935987350011904"
      ]
     },
     "execution_count": 12,
     "metadata": {},
     "output_type": "execute_result"
    }
   ],
   "source": [
    "a"
   ]
  },
  {
   "cell_type": "code",
   "execution_count": 14,
   "id": "bea4f55b-1ff6-48c1-b813-7cb293291f66",
   "metadata": {},
   "outputs": [],
   "source": [
    "x = np.array([56,12,35,48,71,11,28], dtype=np.int8)"
   ]
  },
  {
   "cell_type": "code",
   "execution_count": 15,
   "id": "1ae62c00-fb9b-4d47-9f6a-d750b05ea964",
   "metadata": {},
   "outputs": [
    {
     "data": {
      "text/plain": [
       "array([56, 12, 35, 48, 71, 11, 28], dtype=int8)"
      ]
     },
     "execution_count": 15,
     "metadata": {},
     "output_type": "execute_result"
    }
   ],
   "source": [
    "x"
   ]
  },
  {
   "cell_type": "code",
   "execution_count": 16,
   "id": "7e29549b-287e-4992-b46a-72717264012d",
   "metadata": {},
   "outputs": [
    {
     "name": "stderr",
     "output_type": "stream",
     "text": [
      "C:\\Users\\rajesh\\AppData\\Local\\Temp\\ipykernel_15352\\3874969223.py:1: DeprecationWarning: NumPy will stop allowing conversion of out-of-bound Python integers to integer arrays.  The conversion of 200 to int8 will fail in the future.\n",
      "For the old behavior, usually:\n",
      "    np.array(value).astype(dtype)\n",
      "will give the desired result (the cast overflows).\n",
      "  x[0] = 200\n"
     ]
    }
   ],
   "source": [
    "x[0] = 200"
   ]
  },
  {
   "cell_type": "code",
   "execution_count": 18,
   "id": "0d645182-3594-4f4c-ba6e-9e1e67f7f195",
   "metadata": {},
   "outputs": [],
   "source": [
    "x[0] = 100"
   ]
  },
  {
   "cell_type": "code",
   "execution_count": 19,
   "id": "be84dd22-604e-45e5-95de-dee3eb47dcd4",
   "metadata": {},
   "outputs": [
    {
     "data": {
      "text/plain": [
       "array([100,  12,  35,  48,  71,  11,  28], dtype=int8)"
      ]
     },
     "execution_count": 19,
     "metadata": {},
     "output_type": "execute_result"
    }
   ],
   "source": [
    "x"
   ]
  },
  {
   "cell_type": "code",
   "execution_count": 20,
   "id": "038b6337-d7b1-4976-91f7-6bc4e692f760",
   "metadata": {},
   "outputs": [],
   "source": [
    "x = np.array([56,12,35,48,71,11,28], dtype=np.uint8)"
   ]
  },
  {
   "cell_type": "code",
   "execution_count": 21,
   "id": "c7df8907-2ad7-41f4-a833-21e0ab2dea74",
   "metadata": {},
   "outputs": [
    {
     "data": {
      "text/plain": [
       "array([56, 12, 35, 48, 71, 11, 28], dtype=uint8)"
      ]
     },
     "execution_count": 21,
     "metadata": {},
     "output_type": "execute_result"
    }
   ],
   "source": [
    "x"
   ]
  },
  {
   "cell_type": "code",
   "execution_count": 22,
   "id": "0fc1f9fb-bdd7-489e-8b2c-2226d51500cc",
   "metadata": {},
   "outputs": [],
   "source": [
    "x[0] = 145"
   ]
  },
  {
   "cell_type": "code",
   "execution_count": 23,
   "id": "08f3300d-2fbe-4df3-8742-7b99dc5927bb",
   "metadata": {},
   "outputs": [
    {
     "data": {
      "text/plain": [
       "array([145,  12,  35,  48,  71,  11,  28], dtype=uint8)"
      ]
     },
     "execution_count": 23,
     "metadata": {},
     "output_type": "execute_result"
    }
   ],
   "source": [
    "x"
   ]
  },
  {
   "cell_type": "code",
   "execution_count": 24,
   "id": "3e0307d7-03f1-411f-87ea-cf738185b072",
   "metadata": {},
   "outputs": [
    {
     "data": {
      "text/plain": [
       "7"
      ]
     },
     "execution_count": 24,
     "metadata": {},
     "output_type": "execute_result"
    }
   ],
   "source": [
    "x.size"
   ]
  },
  {
   "cell_type": "code",
   "execution_count": 25,
   "id": "0b8da0c3-d753-4cde-aa27-e9f11974cda1",
   "metadata": {},
   "outputs": [
    {
     "data": {
      "text/plain": [
       "(7,)"
      ]
     },
     "execution_count": 25,
     "metadata": {},
     "output_type": "execute_result"
    }
   ],
   "source": [
    "x.shape"
   ]
  },
  {
   "cell_type": "code",
   "execution_count": 27,
   "id": "e6980178-ee78-452a-8403-dacffd175585",
   "metadata": {},
   "outputs": [
    {
     "data": {
      "text/plain": [
       "11"
      ]
     },
     "execution_count": 27,
     "metadata": {},
     "output_type": "execute_result"
    }
   ],
   "source": [
    "x.min()"
   ]
  },
  {
   "cell_type": "code",
   "execution_count": 28,
   "id": "893bcd9f-6cee-4184-84ad-55322d4bbe2e",
   "metadata": {},
   "outputs": [
    {
     "data": {
      "text/plain": [
       "145"
      ]
     },
     "execution_count": 28,
     "metadata": {},
     "output_type": "execute_result"
    }
   ],
   "source": [
    "x.max()"
   ]
  },
  {
   "cell_type": "code",
   "execution_count": 29,
   "id": "2929ada1-47ac-4f26-8a53-f9630163de4a",
   "metadata": {},
   "outputs": [
    {
     "data": {
      "text/plain": [
       "50.0"
      ]
     },
     "execution_count": 29,
     "metadata": {},
     "output_type": "execute_result"
    }
   ],
   "source": [
    "x.mean()"
   ]
  },
  {
   "cell_type": "code",
   "execution_count": 31,
   "id": "83c761dc-4ccc-4690-905c-d01a79bae1e9",
   "metadata": {},
   "outputs": [
    {
     "data": {
      "text/plain": [
       "array([ 11,  12,  28,  35,  48,  71, 145], dtype=uint8)"
      ]
     },
     "execution_count": 31,
     "metadata": {},
     "output_type": "execute_result"
    }
   ],
   "source": [
    "x.sort()\n",
    "x"
   ]
  },
  {
   "cell_type": "code",
   "execution_count": 32,
   "id": "39b52abd-5b80-45cf-a4ec-1c249172ee48",
   "metadata": {},
   "outputs": [
    {
     "data": {
      "text/plain": [
       "43.33260072640789"
      ]
     },
     "execution_count": 32,
     "metadata": {},
     "output_type": "execute_result"
    }
   ],
   "source": [
    "x.std()"
   ]
  },
  {
   "cell_type": "code",
   "execution_count": 34,
   "id": "744731a8-90b8-46a3-8226-99aac16d92c8",
   "metadata": {},
   "outputs": [
    {
     "data": {
      "text/plain": [
       "350"
      ]
     },
     "execution_count": 34,
     "metadata": {},
     "output_type": "execute_result"
    }
   ],
   "source": [
    "x.sum()"
   ]
  },
  {
   "cell_type": "code",
   "execution_count": 35,
   "id": "65f05fc8-72e7-41c2-bedf-6f451c067ad7",
   "metadata": {},
   "outputs": [],
   "source": [
    "y = np.array([67,89,45.34,69,11,35])"
   ]
  },
  {
   "cell_type": "code",
   "execution_count": 36,
   "id": "b5ca5162-9c5c-4b46-9ac6-f6eb77b87092",
   "metadata": {},
   "outputs": [
    {
     "data": {
      "text/plain": [
       "array([67.  , 89.  , 45.34, 69.  , 11.  , 35.  ])"
      ]
     },
     "execution_count": 36,
     "metadata": {},
     "output_type": "execute_result"
    }
   ],
   "source": [
    "y"
   ]
  },
  {
   "cell_type": "code",
   "execution_count": 37,
   "id": "7284758a-ce04-48a1-9c24-07922ba8a96d",
   "metadata": {},
   "outputs": [
    {
     "data": {
      "text/plain": [
       "dtype('float64')"
      ]
     },
     "execution_count": 37,
     "metadata": {},
     "output_type": "execute_result"
    }
   ],
   "source": [
    "y.dtype"
   ]
  },
  {
   "cell_type": "code",
   "execution_count": 38,
   "id": "d4c5ffe7-2e6a-48be-bf52-474d3d8fa6ad",
   "metadata": {},
   "outputs": [],
   "source": [
    "z = np.array([67,89,45.34,69,11,True])"
   ]
  },
  {
   "cell_type": "code",
   "execution_count": 39,
   "id": "3d49efb4-ef94-4dc4-9229-17b80cd8163c",
   "metadata": {},
   "outputs": [
    {
     "data": {
      "text/plain": [
       "array([67.  , 89.  , 45.34, 69.  , 11.  ,  1.  ])"
      ]
     },
     "execution_count": 39,
     "metadata": {},
     "output_type": "execute_result"
    }
   ],
   "source": [
    "z"
   ]
  },
  {
   "cell_type": "code",
   "execution_count": 42,
   "id": "da3f0777-b38b-41f7-b4b9-71b0f600bd11",
   "metadata": {},
   "outputs": [],
   "source": [
    "z = np.zeros(10)"
   ]
  },
  {
   "cell_type": "code",
   "execution_count": 43,
   "id": "35a82832-d94e-4ce4-bc86-ca0c9319d665",
   "metadata": {},
   "outputs": [
    {
     "data": {
      "text/plain": [
       "array([0., 0., 0., 0., 0., 0., 0., 0., 0., 0.])"
      ]
     },
     "execution_count": 43,
     "metadata": {},
     "output_type": "execute_result"
    }
   ],
   "source": [
    "z"
   ]
  },
  {
   "cell_type": "code",
   "execution_count": 45,
   "id": "98ff321b-472b-4fc0-bd20-1f08ae5efbee",
   "metadata": {},
   "outputs": [
    {
     "data": {
      "text/plain": [
       "array([0, 0, 0, 0, 0, 0, 0, 0, 0, 0], dtype=int16)"
      ]
     },
     "execution_count": 45,
     "metadata": {},
     "output_type": "execute_result"
    }
   ],
   "source": [
    "z = np.zeros(10, dtype=np.int16)\n",
    "z"
   ]
  },
  {
   "cell_type": "code",
   "execution_count": 47,
   "id": "b3ea6fd3-95f8-4e70-a5de-ba69fe984f8f",
   "metadata": {},
   "outputs": [
    {
     "data": {
      "text/plain": [
       "array([1, 1, 1, 1, 1, 1, 1, 1, 1, 1], dtype=int16)"
      ]
     },
     "execution_count": 47,
     "metadata": {},
     "output_type": "execute_result"
    }
   ],
   "source": [
    "o = np.ones(10, dtype=np.int16)\n",
    "o\n",
    "           "
   ]
  },
  {
   "cell_type": "code",
   "execution_count": 48,
   "id": "143c2218-4e34-4a93-96b5-4eee8f56a2be",
   "metadata": {},
   "outputs": [
    {
     "data": {
      "text/plain": [
       "array([0, 1, 2, 3, 4, 5, 6, 7, 8, 9])"
      ]
     },
     "execution_count": 48,
     "metadata": {},
     "output_type": "execute_result"
    }
   ],
   "source": [
    "np.arange(10)"
   ]
  },
  {
   "cell_type": "code",
   "execution_count": 49,
   "id": "4186db86-d8fd-45b8-9304-66b4e4c8c500",
   "metadata": {},
   "outputs": [
    {
     "data": {
      "text/plain": [
       "array([4, 5, 6, 7, 8, 9])"
      ]
     },
     "execution_count": 49,
     "metadata": {},
     "output_type": "execute_result"
    }
   ],
   "source": [
    "np.arange(4,10)"
   ]
  },
  {
   "cell_type": "code",
   "execution_count": 50,
   "id": "c0369170-28bb-4c8a-8120-f11f3a31d075",
   "metadata": {},
   "outputs": [
    {
     "data": {
      "text/plain": [
       "array([ 2,  5,  8, 11, 14, 17])"
      ]
     },
     "execution_count": 50,
     "metadata": {},
     "output_type": "execute_result"
    }
   ],
   "source": [
    "np.arange(2,20,3)"
   ]
  },
  {
   "cell_type": "code",
   "execution_count": 51,
   "id": "dc561a1d-0955-41c8-8444-d8bd8b6b8170",
   "metadata": {},
   "outputs": [
    {
     "data": {
      "text/plain": [
       "array([20, 17, 14, 11,  8,  5,  2])"
      ]
     },
     "execution_count": 51,
     "metadata": {},
     "output_type": "execute_result"
    }
   ],
   "source": [
    "np.arange(20,1,-3)"
   ]
  },
  {
   "cell_type": "code",
   "execution_count": 52,
   "id": "eb85fea0-cfd5-4a29-8f4a-55bb03341736",
   "metadata": {},
   "outputs": [
    {
     "data": {
      "text/plain": [
       "array([0.  , 0.33, 0.66, 0.99, 1.32, 1.65, 1.98, 2.31, 2.64, 2.97, 3.3 ,\n",
       "       3.63, 3.96, 4.29, 4.62, 4.95, 5.28, 5.61, 5.94, 6.27, 6.6 , 6.93,\n",
       "       7.26, 7.59, 7.92, 8.25, 8.58, 8.91, 9.24, 9.57, 9.9 ])"
      ]
     },
     "execution_count": 52,
     "metadata": {},
     "output_type": "execute_result"
    }
   ],
   "source": [
    "np.arange(0,10, 0.33)"
   ]
  },
  {
   "cell_type": "code",
   "execution_count": 53,
   "id": "cc3c99f5-306c-4fff-92a0-8e11d63a1ea3",
   "metadata": {},
   "outputs": [
    {
     "data": {
      "text/plain": [
       "array([ 1. ,  3.5,  6. ,  8.5, 11. ])"
      ]
     },
     "execution_count": 53,
     "metadata": {},
     "output_type": "execute_result"
    }
   ],
   "source": [
    "np.linspace(1,11,5)"
   ]
  },
  {
   "cell_type": "markdown",
   "id": "999649f1-cf59-426e-8f73-5307dc0198e3",
   "metadata": {},
   "source": [
    "##### array Operations"
   ]
  },
  {
   "cell_type": "code",
   "execution_count": 54,
   "id": "7374255d-42bd-4aa1-ae6a-3401082873de",
   "metadata": {},
   "outputs": [],
   "source": [
    "num1 = np.array([56,12,33,14,68,99])\n",
    "num2 = np.array([28,28,19,39,38,74])"
   ]
  },
  {
   "cell_type": "code",
   "execution_count": 56,
   "id": "84532a14-d581-4b30-9472-35d514f45efb",
   "metadata": {},
   "outputs": [
    {
     "data": {
      "text/plain": [
       "array([ 66,  22,  43,  24,  78, 109])"
      ]
     },
     "execution_count": 56,
     "metadata": {},
     "output_type": "execute_result"
    }
   ],
   "source": [
    "num1 + 10"
   ]
  },
  {
   "cell_type": "code",
   "execution_count": 57,
   "id": "1a2e1c3e-99e4-4c4a-b36b-537934d95a8a",
   "metadata": {},
   "outputs": [
    {
     "data": {
      "text/plain": [
       "array([ 5.6,  5.6,  3.8,  7.8,  7.6, 14.8])"
      ]
     },
     "execution_count": 57,
     "metadata": {},
     "output_type": "execute_result"
    }
   ],
   "source": [
    "num2 / 5"
   ]
  },
  {
   "cell_type": "code",
   "execution_count": 58,
   "id": "f4da19eb-b53b-49d5-8278-befdc2fe896e",
   "metadata": {},
   "outputs": [
    {
     "data": {
      "text/plain": [
       "array([224,  48, 132,  56, 272, 396])"
      ]
     },
     "execution_count": 58,
     "metadata": {},
     "output_type": "execute_result"
    }
   ],
   "source": [
    "num1 * 4"
   ]
  },
  {
   "cell_type": "code",
   "execution_count": 59,
   "id": "2ab51c8c-4d0c-4042-b4e4-5c9a939b3c51",
   "metadata": {},
   "outputs": [
    {
     "data": {
      "text/plain": [
       "[56, 12, 33, 14, 68, 99, 56, 12, 33, 14, 68, 99, 56, 12, 33, 14, 68, 99]"
      ]
     },
     "execution_count": 59,
     "metadata": {},
     "output_type": "execute_result"
    }
   ],
   "source": [
    "[56,12,33,14,68,99] * 3"
   ]
  },
  {
   "cell_type": "code",
   "execution_count": 60,
   "id": "38e5fd8d-0937-4ae5-a46c-a35f09a04d53",
   "metadata": {},
   "outputs": [
    {
     "data": {
      "text/plain": [
       "array([ 84,  40,  52,  53, 106, 173])"
      ]
     },
     "execution_count": 60,
     "metadata": {},
     "output_type": "execute_result"
    }
   ],
   "source": [
    "num1 + num2"
   ]
  },
  {
   "cell_type": "code",
   "execution_count": 61,
   "id": "b8de0ec0-49fb-4ce1-bfc7-38451f722c07",
   "metadata": {},
   "outputs": [
    {
     "data": {
      "text/plain": [
       "array([ 28, -16,  14, -25,  30,  25])"
      ]
     },
     "execution_count": 61,
     "metadata": {},
     "output_type": "execute_result"
    }
   ],
   "source": [
    "num1 - num2"
   ]
  },
  {
   "cell_type": "markdown",
   "id": "f2c865db-6e6a-427c-85be-b97194de301b",
   "metadata": {},
   "source": [
    "##### Matrix"
   ]
  },
  {
   "cell_type": "code",
   "execution_count": 62,
   "id": "c7f59d40-9744-4dce-8188-6c0aab66b687",
   "metadata": {},
   "outputs": [],
   "source": [
    "M = np.array([[4,6,7],[1,2,3],[8,0,2],[9,3,5]])"
   ]
  },
  {
   "cell_type": "code",
   "execution_count": 63,
   "id": "56885f64-0543-4f6b-bdb4-e214e4bc04fc",
   "metadata": {},
   "outputs": [
    {
     "data": {
      "text/plain": [
       "array([[4, 6, 7],\n",
       "       [1, 2, 3],\n",
       "       [8, 0, 2],\n",
       "       [9, 3, 5]])"
      ]
     },
     "execution_count": 63,
     "metadata": {},
     "output_type": "execute_result"
    }
   ],
   "source": [
    "M"
   ]
  },
  {
   "cell_type": "code",
   "execution_count": 64,
   "id": "19693f9b-3980-4d7f-8330-1ee15417fad7",
   "metadata": {},
   "outputs": [
    {
     "data": {
      "text/plain": [
       "(4, 3)"
      ]
     },
     "execution_count": 64,
     "metadata": {},
     "output_type": "execute_result"
    }
   ],
   "source": [
    "M.shape"
   ]
  },
  {
   "cell_type": "code",
   "execution_count": 65,
   "id": "b87e7070-bd90-4c88-8c1a-4f5e59778205",
   "metadata": {},
   "outputs": [
    {
     "data": {
      "text/plain": [
       "12"
      ]
     },
     "execution_count": 65,
     "metadata": {},
     "output_type": "execute_result"
    }
   ],
   "source": [
    "M.size"
   ]
  },
  {
   "cell_type": "code",
   "execution_count": 66,
   "id": "8bda72bf-5db6-4d4d-9c45-44643cd87136",
   "metadata": {},
   "outputs": [
    {
     "data": {
      "text/plain": [
       "2"
      ]
     },
     "execution_count": 66,
     "metadata": {},
     "output_type": "execute_result"
    }
   ],
   "source": [
    "M.ndim"
   ]
  },
  {
   "cell_type": "code",
   "execution_count": 68,
   "id": "cddce147-47c6-45fc-a727-8b357b9f07a3",
   "metadata": {},
   "outputs": [
    {
     "data": {
      "text/plain": [
       "0"
      ]
     },
     "execution_count": 68,
     "metadata": {},
     "output_type": "execute_result"
    }
   ],
   "source": [
    "M[2][1]"
   ]
  },
  {
   "cell_type": "code",
   "execution_count": 69,
   "id": "10ec4c6f-b251-46a0-bff7-3509d29fff9b",
   "metadata": {},
   "outputs": [
    {
     "data": {
      "text/plain": [
       "0"
      ]
     },
     "execution_count": 69,
     "metadata": {},
     "output_type": "execute_result"
    }
   ],
   "source": [
    "M[2,1]"
   ]
  },
  {
   "cell_type": "code",
   "execution_count": 70,
   "id": "211f5a6b-7a29-4f47-84a6-b33549cd5571",
   "metadata": {},
   "outputs": [],
   "source": [
    "M1 = M.reshape(3,4)"
   ]
  },
  {
   "cell_type": "code",
   "execution_count": 71,
   "id": "2521a7c3-7d23-4e97-a6b0-b4f5fd533bf4",
   "metadata": {},
   "outputs": [
    {
     "data": {
      "text/plain": [
       "array([[4, 6, 7, 1],\n",
       "       [2, 3, 8, 0],\n",
       "       [2, 9, 3, 5]])"
      ]
     },
     "execution_count": 71,
     "metadata": {},
     "output_type": "execute_result"
    }
   ],
   "source": [
    "M1"
   ]
  },
  {
   "cell_type": "code",
   "execution_count": 72,
   "id": "8d0abbb6-0e52-4ae5-b752-8e6749f30c40",
   "metadata": {},
   "outputs": [],
   "source": [
    "M1 = M.reshape(6,2)"
   ]
  },
  {
   "cell_type": "code",
   "execution_count": 73,
   "id": "7728b47d-6eb7-40ab-90d5-df8d06c7b2fd",
   "metadata": {},
   "outputs": [
    {
     "data": {
      "text/plain": [
       "array([[4, 6],\n",
       "       [7, 1],\n",
       "       [2, 3],\n",
       "       [8, 0],\n",
       "       [2, 9],\n",
       "       [3, 5]])"
      ]
     },
     "execution_count": 73,
     "metadata": {},
     "output_type": "execute_result"
    }
   ],
   "source": [
    "M1"
   ]
  },
  {
   "cell_type": "code",
   "execution_count": 76,
   "id": "0a3ab149-e853-4719-9099-f8c2218c7752",
   "metadata": {},
   "outputs": [
    {
     "data": {
      "text/plain": [
       "array([[4, 6, 7],\n",
       "       [7, 8, 3],\n",
       "       [1, 1, 2],\n",
       "       [9, 3, 5]])"
      ]
     },
     "execution_count": 76,
     "metadata": {},
     "output_type": "execute_result"
    }
   ],
   "source": [
    "M[1:3, 0:2] = np.array([[7,8],[1,1]])\n",
    "M"
   ]
  },
  {
   "cell_type": "code",
   "execution_count": 77,
   "id": "a0d3f126-7430-43cc-bf86-4e9a040db1d8",
   "metadata": {},
   "outputs": [
    {
     "data": {
      "text/plain": [
       "array([[4, 6, 7, 7, 8, 3],\n",
       "       [1, 1, 2, 9, 3, 5]])"
      ]
     },
     "execution_count": 77,
     "metadata": {},
     "output_type": "execute_result"
    }
   ],
   "source": [
    "M.reshape(2,-1)"
   ]
  },
  {
   "cell_type": "code",
   "execution_count": 78,
   "id": "00904e80-71ad-4537-a4df-c85c3a8e94fa",
   "metadata": {},
   "outputs": [
    {
     "data": {
      "text/plain": [
       "array([[4, 6, 7, 7],\n",
       "       [8, 3, 1, 1],\n",
       "       [2, 9, 3, 5]])"
      ]
     },
     "execution_count": 78,
     "metadata": {},
     "output_type": "execute_result"
    }
   ],
   "source": [
    "M.reshape(-1,4)"
   ]
  },
  {
   "cell_type": "code",
   "execution_count": 79,
   "id": "c6976ae6-a50a-4d9e-9fcf-4f8639d58db8",
   "metadata": {},
   "outputs": [
    {
     "data": {
      "text/plain": [
       "array([4, 6, 7, 7, 8, 3, 1, 1, 2, 9, 3, 5])"
      ]
     },
     "execution_count": 79,
     "metadata": {},
     "output_type": "execute_result"
    }
   ],
   "source": [
    "M.reshape(-1)"
   ]
  },
  {
   "cell_type": "code",
   "execution_count": 80,
   "id": "90b72814-cc0a-47c6-8a05-7864c71ee5a6",
   "metadata": {},
   "outputs": [
    {
     "data": {
      "text/plain": [
       "array([4, 6, 7, 7, 8, 3, 1, 1, 2, 9, 3, 5])"
      ]
     },
     "execution_count": 80,
     "metadata": {},
     "output_type": "execute_result"
    }
   ],
   "source": [
    "M.flatten()"
   ]
  },
  {
   "cell_type": "code",
   "execution_count": 81,
   "id": "07e89db1-c931-49ff-a309-6ccec261b257",
   "metadata": {},
   "outputs": [
    {
     "data": {
      "text/plain": [
       "array([[4, 7, 1, 9],\n",
       "       [6, 8, 1, 3],\n",
       "       [7, 3, 2, 5]])"
      ]
     },
     "execution_count": 81,
     "metadata": {},
     "output_type": "execute_result"
    }
   ],
   "source": [
    "M.T"
   ]
  },
  {
   "cell_type": "code",
   "execution_count": 82,
   "id": "4b39ab8e-0b56-4f6f-9da1-a2ea239b6ec5",
   "metadata": {},
   "outputs": [
    {
     "data": {
      "text/plain": [
       "1"
      ]
     },
     "execution_count": 82,
     "metadata": {},
     "output_type": "execute_result"
    }
   ],
   "source": [
    "M.min()"
   ]
  },
  {
   "cell_type": "code",
   "execution_count": 83,
   "id": "c3aff8f2-0f24-4c1e-8829-cfabdf208e8b",
   "metadata": {},
   "outputs": [
    {
     "data": {
      "text/plain": [
       "array([4, 3, 1, 3])"
      ]
     },
     "execution_count": 83,
     "metadata": {},
     "output_type": "execute_result"
    }
   ],
   "source": [
    "M.min(axis=1)"
   ]
  },
  {
   "cell_type": "code",
   "execution_count": 84,
   "id": "55a178a0-2410-4929-8bd9-e9d48fd5e008",
   "metadata": {},
   "outputs": [
    {
     "data": {
      "text/plain": [
       "array([1, 1, 2])"
      ]
     },
     "execution_count": 84,
     "metadata": {},
     "output_type": "execute_result"
    }
   ],
   "source": [
    "M.min(axis=0)"
   ]
  },
  {
   "cell_type": "code",
   "execution_count": 85,
   "id": "2db32af0-4641-42fa-90ba-db648c5d958d",
   "metadata": {},
   "outputs": [
    {
     "data": {
      "text/plain": [
       "array([17, 18,  4, 17])"
      ]
     },
     "execution_count": 85,
     "metadata": {},
     "output_type": "execute_result"
    }
   ],
   "source": [
    "M.sum(axis=1)"
   ]
  },
  {
   "cell_type": "code",
   "execution_count": 87,
   "id": "15784713-ec3f-4563-bfc4-0f33ce12d7ae",
   "metadata": {},
   "outputs": [
    {
     "data": {
      "text/plain": [
       "array([21, 18, 17])"
      ]
     },
     "execution_count": 87,
     "metadata": {},
     "output_type": "execute_result"
    }
   ],
   "source": [
    "M.sum(axis=0)"
   ]
  },
  {
   "cell_type": "code",
   "execution_count": 88,
   "id": "48e99db8-2476-46f0-b3d5-0ca03d79de5c",
   "metadata": {},
   "outputs": [
    {
     "data": {
      "text/plain": [
       "array([[67.  , 89.  ],\n",
       "       [45.34, 69.  ],\n",
       "       [11.  , 35.  ]])"
      ]
     },
     "execution_count": 88,
     "metadata": {},
     "output_type": "execute_result"
    }
   ],
   "source": [
    "y.reshape(3,2)"
   ]
  },
  {
   "cell_type": "code",
   "execution_count": 89,
   "id": "9abb8b33-34f8-4ba8-9f06-5065b22eac31",
   "metadata": {},
   "outputs": [
    {
     "data": {
      "text/plain": [
       "9"
      ]
     },
     "execution_count": 89,
     "metadata": {},
     "output_type": "execute_result"
    }
   ],
   "source": [
    "M.argmax()"
   ]
  },
  {
   "cell_type": "code",
   "execution_count": 90,
   "id": "c9e5082c-8b5d-48b5-bb3b-d1b4dcff3501",
   "metadata": {},
   "outputs": [
    {
     "data": {
      "text/plain": [
       "array([[4, 6, 7],\n",
       "       [7, 8, 3],\n",
       "       [1, 1, 2],\n",
       "       [9, 3, 5]])"
      ]
     },
     "execution_count": 90,
     "metadata": {},
     "output_type": "execute_result"
    }
   ],
   "source": [
    "M"
   ]
  },
  {
   "cell_type": "code",
   "execution_count": 91,
   "id": "7db285dc-67d4-4695-aac0-84a0f63daeda",
   "metadata": {},
   "outputs": [
    {
     "data": {
      "text/plain": [
       "1"
      ]
     },
     "execution_count": 91,
     "metadata": {},
     "output_type": "execute_result"
    }
   ],
   "source": [
    "y.argmax()"
   ]
  },
  {
   "cell_type": "code",
   "execution_count": 92,
   "id": "0f605cd3-c0eb-4425-8ab7-0296d7682a22",
   "metadata": {},
   "outputs": [
    {
     "data": {
      "text/plain": [
       "array([67.  , 89.  , 45.34, 69.  , 11.  , 35.  ])"
      ]
     },
     "execution_count": 92,
     "metadata": {},
     "output_type": "execute_result"
    }
   ],
   "source": [
    "y"
   ]
  },
  {
   "cell_type": "code",
   "execution_count": 93,
   "id": "1a839eef-fdc0-43f1-99e2-800300da6859",
   "metadata": {},
   "outputs": [
    {
     "data": {
      "text/plain": [
       "dtype('int32')"
      ]
     },
     "execution_count": 93,
     "metadata": {},
     "output_type": "execute_result"
    }
   ],
   "source": [
    "M.dtype"
   ]
  },
  {
   "cell_type": "code",
   "execution_count": 94,
   "id": "574d0a51-b70f-4d45-8409-8ff19fb58aac",
   "metadata": {},
   "outputs": [],
   "source": [
    "M = M.astype(np.int16)"
   ]
  },
  {
   "cell_type": "code",
   "execution_count": 95,
   "id": "4619c7a9-80c9-4604-b19f-4ab3cac223cc",
   "metadata": {},
   "outputs": [
    {
     "data": {
      "text/plain": [
       "array([[4, 6, 7],\n",
       "       [7, 8, 3],\n",
       "       [1, 1, 2],\n",
       "       [9, 3, 5]], dtype=int16)"
      ]
     },
     "execution_count": 95,
     "metadata": {},
     "output_type": "execute_result"
    }
   ],
   "source": [
    "M"
   ]
  },
  {
   "cell_type": "code",
   "execution_count": 96,
   "id": "9eefc20d-81d6-45d1-89f4-05279a64b905",
   "metadata": {},
   "outputs": [
    {
     "data": {
      "text/plain": [
       "array([[4., 6., 7.],\n",
       "       [7., 8., 3.],\n",
       "       [1., 1., 2.],\n",
       "       [9., 3., 5.]], dtype=float16)"
      ]
     },
     "execution_count": 96,
     "metadata": {},
     "output_type": "execute_result"
    }
   ],
   "source": [
    "M = M.astype(np.float16)\n",
    "M"
   ]
  },
  {
   "cell_type": "code",
   "execution_count": 99,
   "id": "13786822-79d3-4538-abfb-c2294715af66",
   "metadata": {},
   "outputs": [
    {
     "data": {
      "text/plain": [
       "array([ 11,  12,  28,  35,  48,  71, 145], dtype=uint8)"
      ]
     },
     "execution_count": 99,
     "metadata": {},
     "output_type": "execute_result"
    }
   ],
   "source": [
    "x"
   ]
  },
  {
   "cell_type": "code",
   "execution_count": 100,
   "id": "980d637b-d9b3-463d-aa12-39da68212ba5",
   "metadata": {},
   "outputs": [],
   "source": [
    "y = x"
   ]
  },
  {
   "cell_type": "code",
   "execution_count": 101,
   "id": "2589353c-73e6-45bf-8fe5-1d920b2bb229",
   "metadata": {},
   "outputs": [
    {
     "data": {
      "text/plain": [
       "array([ 11,  12,  28,  35,  48,  71, 145], dtype=uint8)"
      ]
     },
     "execution_count": 101,
     "metadata": {},
     "output_type": "execute_result"
    }
   ],
   "source": [
    "y"
   ]
  },
  {
   "cell_type": "code",
   "execution_count": 102,
   "id": "33fa4c64-09e3-4e35-882b-5b2392c8ee34",
   "metadata": {},
   "outputs": [],
   "source": [
    "y[0] = 20"
   ]
  },
  {
   "cell_type": "code",
   "execution_count": 103,
   "id": "2a0438c3-39fe-4991-8bf5-6046214ef922",
   "metadata": {},
   "outputs": [
    {
     "data": {
      "text/plain": [
       "array([ 20,  12,  28,  35,  48,  71, 145], dtype=uint8)"
      ]
     },
     "execution_count": 103,
     "metadata": {},
     "output_type": "execute_result"
    }
   ],
   "source": [
    "x"
   ]
  },
  {
   "cell_type": "code",
   "execution_count": 104,
   "id": "0e7e9e99-be9c-43c9-bb5c-16930bddbe30",
   "metadata": {},
   "outputs": [
    {
     "data": {
      "text/plain": [
       "2411491872656"
      ]
     },
     "execution_count": 104,
     "metadata": {},
     "output_type": "execute_result"
    }
   ],
   "source": [
    "id(y)"
   ]
  },
  {
   "cell_type": "code",
   "execution_count": 105,
   "id": "0f15d541-c932-4adf-ba9d-1a0ead143f64",
   "metadata": {},
   "outputs": [
    {
     "data": {
      "text/plain": [
       "2411491872656"
      ]
     },
     "execution_count": 105,
     "metadata": {},
     "output_type": "execute_result"
    }
   ],
   "source": [
    "id(x)"
   ]
  },
  {
   "cell_type": "code",
   "execution_count": 106,
   "id": "b5edb79c-4dd7-40ab-b91f-ebd47fc51283",
   "metadata": {},
   "outputs": [
    {
     "data": {
      "text/plain": [
       "array([ 20,  12,  28,  35,  48,  71, 145], dtype=uint8)"
      ]
     },
     "execution_count": 106,
     "metadata": {},
     "output_type": "execute_result"
    }
   ],
   "source": [
    "y = x.copy()\n",
    "y"
   ]
  },
  {
   "cell_type": "code",
   "execution_count": 107,
   "id": "60f66bc9-d816-49d1-9492-90d5ee5aaf41",
   "metadata": {},
   "outputs": [
    {
     "data": {
      "text/plain": [
       "2411491872656"
      ]
     },
     "execution_count": 107,
     "metadata": {},
     "output_type": "execute_result"
    }
   ],
   "source": [
    "id(x)"
   ]
  },
  {
   "cell_type": "code",
   "execution_count": null,
   "id": "d4a0b785-2b49-4e0d-9a9e-525514858f0c",
   "metadata": {},
   "outputs": [],
   "source": [
    "id(x)"
   ]
  }
 ],
 "metadata": {
  "kernelspec": {
   "display_name": "Python 3 (ipykernel)",
   "language": "python",
   "name": "python3"
  },
  "language_info": {
   "codemirror_mode": {
    "name": "ipython",
    "version": 3
   },
   "file_extension": ".py",
   "mimetype": "text/x-python",
   "name": "python",
   "nbconvert_exporter": "python",
   "pygments_lexer": "ipython3",
   "version": "3.11.7"
  }
 },
 "nbformat": 4,
 "nbformat_minor": 5
}
