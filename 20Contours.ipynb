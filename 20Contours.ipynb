{
 "cells": [
  {
   "cell_type": "code",
   "execution_count": null,
   "id": "e214c3cf-0386-49aa-a175-3db19132b1f2",
   "metadata": {},
   "outputs": [],
   "source": [
    "import cv2\n",
    "\n",
    "# Load the image\n",
    "img = cv2.imread('images/circle.png', 0)\n",
    "\n",
    "# Creates a binary image where pixels above 127 are set to 255 (white),\n",
    "# and others to 0 (black)\n",
    "thresh = cv2.threshold(img, 127, 255, cv2.THRESH_BINARY)[1]\n",
    "\n",
    "# cv2.findContours finds contours in the binary image.\n",
    "# cv2.RETR_TREE retrieves all contours and creates a hierachy tree.\n",
    "# cv2.CHAIN_APPROX_SIMPLE approximates contours to save memory.\n",
    "contours, hierarchy = cv2.findContours(thresh, cv2.RETR_TREE, cv2.CHAIN_APPROX_SIMPLE)\n",
    "\n",
    "# -1 draws all contours.\n",
    "# (0, 255, 0) is the color (green).\n",
    "# 2 is the thickness of the lines.\n",
    "cv2.drawContours(img, contours, -1, (0,255,0), 2) # Draw all contours in\n",
    "\n",
    "# Display results\n",
    "cv2.imshow('Original Image', img)\n",
    "cv2.imshow('Threshold Image', thresh)\n",
    "cv2.waitKey(0)\n",
    "cv2.destroyAllWindows() "
   ]
  },
  {
   "cell_type": "code",
   "execution_count": null,
   "id": "58c05c3a-e6f2-4469-a987-fe4ba2b3570a",
   "metadata": {},
   "outputs": [],
   "source": [
    "import cv2\n",
    "\n",
    "# Load the image\n",
    "img = cv2.imread('images/circle.png', 0)\n",
    "gray = cv2.cvtColor(img, cv2.COLOR_BGR2GRAY)\n",
    "\n",
    "# Creates a binary image where pixels above 127 are set to 255 (white),\n",
    "# and others to 0 (black)\n",
    "thresh = cv2.threshold(gray, 127, 255, cv2.THRESH_BINARY)[1]\n",
    "\n",
    "# cv2.findContours finds contours in the binary image.\n",
    "# cv2.RETR_TREE retrieves all contours and creates a hierachy tree.\n",
    "# cv2.CHAIN_APPROX_SIMPLE approximates contours to save memory.\n",
    "contours, hierarchy = cv2.findContours(thresh, cv2.RETR_TREE, cv2.CHAIN_APPROX_SIMPLE)\n",
    "\n",
    "# -1 draws all contours.\n",
    "# (0, 255, 0) is the color (green).\n",
    "# 2 is the thickness of the lines.\n",
    "cv2.drawContours(img, contours, -1, (0,255,0), 2) # Draw all contours in green\n",
    "\n",
    "# Display results\n",
    "cv2.imshow('Original Image', img)\n",
    "cv2.imshow('Threshold Image', thresh)\n",
    "cv2.waitKey(0)\n",
    "cv2.destroyAllWindows() "
   ]
  },
  {
   "cell_type": "code",
   "execution_count": null,
   "id": "dee621a8-2723-4b70-ba61-3cdd9722ea22",
   "metadata": {},
   "outputs": [],
   "source": []
  }
 ],
 "metadata": {
  "kernelspec": {
   "display_name": "Python 3 (ipykernel)",
   "language": "python",
   "name": "python3"
  },
  "language_info": {
   "codemirror_mode": {
    "name": "ipython",
    "version": 3
   },
   "file_extension": ".py",
   "mimetype": "text/x-python",
   "name": "python",
   "nbconvert_exporter": "python",
   "pygments_lexer": "ipython3",
   "version": "3.11.7"
  }
 },
 "nbformat": 4,
 "nbformat_minor": 5
}
