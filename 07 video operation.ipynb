{
 "cells": [
  {
   "cell_type": "code",
   "execution_count": 1,
   "id": "c0aaacb6-299d-41ef-8b00-ce8c125aa868",
   "metadata": {},
   "outputs": [],
   "source": [
    "import cv2\n",
    "import matplotlib.pyplot as plt"
   ]
  },
  {
   "cell_type": "code",
   "execution_count": 2,
   "id": "c852399f-4ddc-4078-8194-0c98132e0cdb",
   "metadata": {},
   "outputs": [],
   "source": [
    "vid = cv2.VideoCapture('images/robots.mp4')"
   ]
  },
  {
   "cell_type": "code",
   "execution_count": 3,
   "id": "4513c9da-673f-4264-b573-c6e12f8466c6",
   "metadata": {},
   "outputs": [
    {
     "data": {
      "text/plain": [
       "< cv2.VideoCapture 0000026283025F10>"
      ]
     },
     "execution_count": 3,
     "metadata": {},
     "output_type": "execute_result"
    }
   ],
   "source": [
    "vid"
   ]
  },
  {
   "cell_type": "code",
   "execution_count": 4,
   "id": "04f38366-a207-432d-b02e-6b84d26a8b6b",
   "metadata": {},
   "outputs": [],
   "source": [
    "ret, frame = vid.read()"
   ]
  },
  {
   "cell_type": "code",
   "execution_count": 5,
   "id": "37464631-4025-4ca6-98ae-c6326bc95644",
   "metadata": {},
   "outputs": [
    {
     "data": {
      "text/plain": [
       "True"
      ]
     },
     "execution_count": 5,
     "metadata": {},
     "output_type": "execute_result"
    }
   ],
   "source": [
    "ret"
   ]
  },
  {
   "cell_type": "code",
   "execution_count": 6,
   "id": "f906e3f5-9a9e-4028-b5f8-6527818401e9",
   "metadata": {},
   "outputs": [
    {
     "data": {
      "text/plain": [
       "(640, 640, 3)"
      ]
     },
     "execution_count": 6,
     "metadata": {},
     "output_type": "execute_result"
    }
   ],
   "source": [
    "frame.shape"
   ]
  },
  {
   "cell_type": "code",
   "execution_count": null,
   "id": "3de32696-3701-4e18-8e45-89ae2599b970",
   "metadata": {},
   "outputs": [],
   "source": [
    "cv2.imshow('frame', frame)\n",
    "cv2.waitKey(0)\n",
    "cv2.destroyAllWindows()"
   ]
  },
  {
   "cell_type": "code",
   "execution_count": null,
   "id": "1d2d0bc5-5460-4ec9-b739-f08c38dc38ac",
   "metadata": {},
   "outputs": [],
   "source": [
    "width = int(vid.get(cv2.CAP_PROP_FRAME_WIDTH))\n",
    "height = int(vid.get(cv2.CAP_PROP_FRAME_HEIGHT))\n",
    "frames = int(vid.get(cv2.CAP_PROP_FRAME_COUNT))\n",
    "fps = int(vid.get(cv2.CAP_PROP_FPS))"
   ]
  },
  {
   "cell_type": "code",
   "execution_count": null,
   "id": "df282566-480b-471e-8fb8-54fdc6bbdec5",
   "metadata": {},
   "outputs": [],
   "source": [
    "print('Video Resolution:', height,width)\n",
    "print('Total Frames:', frames)\n",
    "print('FPS:', fps)"
   ]
  },
  {
   "cell_type": "code",
   "execution_count": null,
   "id": "e5ca2ec3-87ef-4aac-a59c-75245b7b226a",
   "metadata": {},
   "outputs": [],
   "source": [
    "vid = cv2.VideoCapture('images/robots.mp4')\n",
    "while True:\n",
    "    ret, frame = vid.read()\n",
    "    if not ret:\n",
    "        break\n",
    "    # Process the frame (e.g., apply filters, detect objects)\n",
    "    cv2. imshow('video', frame)\n",
    "    if cv2.waitKey(5) == ord('q'):\n",
    "            break\n",
    "\n",
    "\n",
    "\n",
    "cv2.destroyAllWindows()"
   ]
  },
  {
   "cell_type": "code",
   "execution_count": null,
   "id": "78166fea-7d4c-4e9a-bc98-fe61e4efcd81",
   "metadata": {},
   "outputs": [],
   "source": [
    "vid = cv2.VideoCapture('images/robots.mp4')\n",
    "\n",
    "# get the first frame and see if successful\n",
    "success, frame = vid.read()\n",
    "# initiate count\n",
    "count = 1\n",
    "# keep extracting frames as long as success is True\n",
    "# create a folder with a name video\n",
    "while success:\n",
    "    cv2.imwrite(f'video_frames/{count}.jpg', frame)\n",
    "    success, frame = vid.read()\n",
    "    count += 1"
   ]
  },
  {
   "cell_type": "code",
   "execution_count": null,
   "id": "9f8cf5ab-6e0d-49a9-8000-c49191fc07b9",
   "metadata": {},
   "outputs": [],
   "source": [
    "img200 = plt.imread('video_frames/200.jpg')\n",
    "plt.imshow(img200)"
   ]
  },
  {
   "cell_type": "code",
   "execution_count": null,
   "id": "fc519fbb-477e-4aff-9d04-1c5814201413",
   "metadata": {},
   "outputs": [],
   "source": [
    "timestamp = '00:00:43'"
   ]
  },
  {
   "cell_type": "code",
   "execution_count": null,
   "id": "0b2a7ac8-d9cf-4319-951e-ee6b73c8d393",
   "metadata": {},
   "outputs": [],
   "source": [
    "timestamp.split(':')"
   ]
  },
  {
   "cell_type": "code",
   "execution_count": null,
   "id": "b64e8b7b-606c-428b-beaf-a4bca10ef1ac",
   "metadata": {},
   "outputs": [],
   "source": [
    "# get frame at a specific timestamp\n",
    "timestamp = '00:00:43.00'\n",
    "hours, minutes, seconds = [float(i) for i in timestamp.split(':')\n",
    "print(hours, minutes, seconds)"
   ]
  },
  {
   "cell_type": "code",
   "execution_count": null,
   "id": "2dc3a69c-5f9e-4a7a-9bcc-e3f640986450",
   "metadata": {},
   "outputs": [],
   "source": [
    "cap = cv2.VideoCapture(0)"
   ]
  },
  {
   "cell_type": "markdown",
   "id": "66eb6378-ec80-4ccc-8265-128a9171275d",
   "metadata": {},
   "source": []
  },
  {
   "cell_type": "code",
   "execution_count": null,
   "id": "6d4bf950-4439-4268-9499-cbd8c6d2d503",
   "metadata": {},
   "outputs": [],
   "source": []
  },
  {
   "cell_type": "raw",
   "id": "d5144a33-b266-41f4-9148-7cf6d7cb057c",
   "metadata": {},
   "source": []
  },
  {
   "cell_type": "raw",
   "id": "fb81e4dc-e7cc-4597-a249-e24c9072b4d8",
   "metadata": {},
   "source": []
  }
 ],
 "metadata": {
  "kernelspec": {
   "display_name": "Python 3 (ipykernel)",
   "language": "python",
   "name": "python3"
  },
  "language_info": {
   "codemirror_mode": {
    "name": "ipython",
    "version": 3
   },
   "file_extension": ".py",
   "mimetype": "text/x-python",
   "name": "python",
   "nbconvert_exporter": "python",
   "pygments_lexer": "ipython3",
   "version": "3.11.7"
  }
 },
 "nbformat": 4,
 "nbformat_minor": 5
}
