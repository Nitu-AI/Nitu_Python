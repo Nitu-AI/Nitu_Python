{
 "cells": [
  {
   "cell_type": "code",
   "execution_count": 1,
   "id": "dd2ea504-6f95-4952-bef4-134df962a0ec",
   "metadata": {},
   "outputs": [],
   "source": [
    "import numpy as np \n",
    "import matplotlib.pyplot as plt\n",
    "import cv2"
   ]
  },
  {
   "cell_type": "code",
   "execution_count": 2,
   "id": "323d60c9-a98c-48ff-93ac-3bc619c78bcb",
   "metadata": {},
   "outputs": [],
   "source": [
    "img = cv2.imread('images/cat_damaged.png')"
   ]
  },
  {
   "cell_type": "code",
   "execution_count": 3,
   "id": "ae35e6df-ca5a-48fb-9269-54bc9e7eb10d",
   "metadata": {},
   "outputs": [],
   "source": [
    "cv2.imshow('Damaged Image', img)\n",
    "cv2.waitKey(0)\n",
    "cv2.destroyAllWindows() "
   ]
  },
  {
   "cell_type": "code",
   "execution_count": 4,
   "id": "0584658a-b8a5-476e-a4de-19b537bf7fd8",
   "metadata": {},
   "outputs": [],
   "source": [
    "height, width = img.shape[:2]"
   ]
  },
  {
   "cell_type": "code",
   "execution_count": 5,
   "id": "c825cdab-4a06-4ce9-8acb-f48a7b4dc401",
   "metadata": {},
   "outputs": [
    {
     "data": {
      "text/plain": [
       "(400, 400)"
      ]
     },
     "execution_count": 5,
     "metadata": {},
     "output_type": "execute_result"
    }
   ],
   "source": [
    "height, width"
   ]
  },
  {
   "cell_type": "code",
   "execution_count": 6,
   "id": "41c03af6-1b0a-4b32-bad7-1364b5129f8e",
   "metadata": {},
   "outputs": [],
   "source": [
    "mask = np.zeros([height, width, 3], dtype=np.uint8)"
   ]
  },
  {
   "cell_type": "code",
   "execution_count": 7,
   "id": "e7855f02-12e5-4803-8238-6f89d3a85a04",
   "metadata": {},
   "outputs": [],
   "source": [
    "cv2.imshow('Mask', mask)\n",
    "cv2.waitKey(0)\n",
    "cv2.destroyAllWindows() "
   ]
  },
  {
   "cell_type": "code",
   "execution_count": 8,
   "id": "f737b36a-74f8-4bea-bcdc-4366bf2f09d1",
   "metadata": {},
   "outputs": [],
   "source": [
    "# Converting al pixels greater than zero to black becomes white\n",
    "for i in range(height):\n",
    "    for j in range(width):\n",
    "        if img[i, j].sum() == 0:\n",
    "            mask[i, j] = [255, 255, 255]"
   ]
  },
  {
   "cell_type": "code",
   "execution_count": 10,
   "id": "f82cfd12-b123-4deb-b05d-cfa503af78b8",
   "metadata": {},
   "outputs": [],
   "source": [
    "cv2.imshow('Mask', mask)\n",
    "cv2.waitKey(0)\n",
    "cv2.destroyAllWindows() "
   ]
  },
  {
   "cell_type": "code",
   "execution_count": 11,
   "id": "18f3fe40-b04a-486b-8e5e-f53420fb062b",
   "metadata": {},
   "outputs": [],
   "source": [
    "mask = cv2.cvtColor(mask, cv2.COLOR_BGR2GRAY)"
   ]
  },
  {
   "cell_type": "code",
   "execution_count": 12,
   "id": "9f10d8ee-04dc-46a8-aa8d-24c25c9b312e",
   "metadata": {},
   "outputs": [],
   "source": [
    "# Inpaint.\n",
    "dst = cv2.inpaint(img, mask, 3, cv2.INPAINT_NS)"
   ]
  },
  {
   "cell_type": "code",
   "execution_count": 13,
   "id": "a12bc18b-d957-4563-b938-d999608289df",
   "metadata": {},
   "outputs": [],
   "source": [
    "cv2.imshow('Final Image', dst)\n",
    "cv2.waitKey(0)\n",
    "cv2.destroyAllWindows() "
   ]
  }
 ],
 "metadata": {
  "kernelspec": {
   "display_name": "Python 3 (ipykernel)",
   "language": "python",
   "name": "python3"
  },
  "language_info": {
   "codemirror_mode": {
    "name": "ipython",
    "version": 3
   },
   "file_extension": ".py",
   "mimetype": "text/x-python",
   "name": "python",
   "nbconvert_exporter": "python",
   "pygments_lexer": "ipython3",
   "version": "3.11.7"
  }
 },
 "nbformat": 4,
 "nbformat_minor": 5
}
