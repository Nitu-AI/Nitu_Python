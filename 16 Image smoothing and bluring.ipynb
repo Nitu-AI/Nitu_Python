{
 "cells": [
  {
   "cell_type": "code",
   "execution_count": null,
   "id": "7567c764-6e29-4320-af1d-1f54ce77fb27",
   "metadata": {},
   "outputs": [],
   "source": [
    "import cv2\n",
    "import numpy as np\n",
    "\n",
    "# Load an image\n",
    "image = cv2.imread(\"images/lenna.png\")\n",
    "\n",
    "# Define a 3x3 averagin kernel\n",
    "kernel = np.ones((3,3), np.float32) / 9\n",
    "\n",
    "# Apply the kernel to smooth the image\n",
    "smoothed_image = cv2.filter2D(image, -1, kernel)\n",
    "\n",
    "# Show the original and smoothed images\n",
    "cv2.imshow(\"Original\", image)\n",
    "cv2.imshow(\"Smoothed\", smoothed_image)\n",
    "cv2.waitKey(0)\n",
    "cv2.destroyAllWindows()                "
   ]
  },
  {
   "cell_type": "markdown",
   "id": "3e840e9e-5624-41c9-ae9f-8a51f081d708",
   "metadata": {},
   "source": [
    "##### Gaussian Kernel"
   ]
  },
  {
   "cell_type": "code",
   "execution_count": null,
   "id": "3c1e4094-e783-438c-9c5d-3d8c32a56390",
   "metadata": {},
   "outputs": [],
   "source": [
    "import matplotlib.pyplot as plt\n",
    "gray = cv2.imread(\"images/lenna.png\", 0)\n",
    "kernel_size = 5 # Adjust as needed\n",
    "kernel = cv2.getGaussianKernel(kernel_size, 1.25)\n",
    "blurred = cv2.filter2D(gray, -1, kernel) # Apply filter"
   ]
  },
  {
   "cell_type": "code",
   "execution_count": null,
   "id": "b3a04aa6-1954-4526-8412-489981901e40",
   "metadata": {},
   "outputs": [],
   "source": [
    "kernel"
   ]
  },
  {
   "cell_type": "code",
   "execution_count": null,
   "id": "b8ff753d-26fa-43f1-bd06-41e52774b884",
   "metadata": {},
   "outputs": [],
   "source": [
    "plt.figure(figsize=(10,6))\n",
    "plt.subplot(121), plt.imshow(gray, cmap='gray'), plt.tittle('Original Image')\n",
    "plt.subplot(122), plt.imshow(blurred, cmap='gray'), plt.tittle('Gaussian Blurred Image')\n",
    "plt.show()"
   ]
  },
  {
   "cell_type": "code",
   "execution_count": null,
   "id": "5c6a608a-586f-4c17-8277-67bc105d0c21",
   "metadata": {},
   "outputs": [],
   "source": []
  }
 ],
 "metadata": {
  "kernelspec": {
   "display_name": "Python 3 (ipykernel)",
   "language": "python",
   "name": "python3"
  },
  "language_info": {
   "codemirror_mode": {
    "name": "ipython",
    "version": 3
   },
   "file_extension": ".py",
   "mimetype": "text/x-python",
   "name": "python",
   "nbconvert_exporter": "python",
   "pygments_lexer": "ipython3",
   "version": "3.11.7"
  }
 },
 "nbformat": 4,
 "nbformat_minor": 5
}
