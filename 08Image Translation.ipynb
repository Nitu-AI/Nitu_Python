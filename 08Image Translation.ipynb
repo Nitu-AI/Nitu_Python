{
 "cells": [
  {
   "cell_type": "code",
   "execution_count": 1,
   "id": "222fdfd2-d9bb-45b6-80e3-6a832022e64f",
   "metadata": {},
   "outputs": [],
   "source": [
    "import cv2\n",
    "import numpy as np\n",
    "import matplotlib.pyplot as plt"
   ]
  },
  {
   "cell_type": "code",
   "execution_count": 2,
   "id": "cb49712d-ed10-4e50-9ea7-2d66e722ce8e",
   "metadata": {},
   "outputs": [],
   "source": [
    "image = cv2.imread('images/lenna.png')\n",
    "\n",
    "# Store height and width of the image\n",
    "height, width = image.shape[:2]\n",
    "\n",
    "quarter_height, quarter_width = height / 4, width / 4\n",
    "\n",
    "T = np.float32([[1,0,quarter_width], [0,1,quarter_width]])\n",
    "\n",
    "# We use warpAffine to transform the image using the matrix, T\n",
    "img_translation = cv2.warpAffine(image, T, (width, height))"
   ]
  },
  {
   "cell_type": "code",
   "execution_count": 3,
   "id": "8674ab02-20c0-4587-a695-338c3033d8c8",
   "metadata": {},
   "outputs": [
    {
     "data": {
      "text/plain": [
       "array([[  1.,   0., 128.],\n",
       "       [  0.,   1., 128.]], dtype=float32)"
      ]
     },
     "execution_count": 3,
     "metadata": {},
     "output_type": "execute_result"
    }
   ],
   "source": [
    "T"
   ]
  },
  {
   "cell_type": "code",
   "execution_count": null,
   "id": "6fa59739-fb8d-4bc3-ab79-a5b98ed2e6c5",
   "metadata": {},
   "outputs": [],
   "source": [
    "cv2.imshow('Original Image', image)\n",
    "cv2.imshow('Translated image', img_translation)\n",
    "cv2.waitKey(0)\n",
    "cv2.destroyAllWindows()"
   ]
  },
  {
   "cell_type": "code",
   "execution_count": null,
   "id": "bd6d9bdb-8426-41f6-af2d-bbfba6744338",
   "metadata": {},
   "outputs": [],
   "source": [
    "T = np.float32([[1,0,40], [0,1,100]])\n",
    "img_translation = cv2.warpAffinne(image, T, (width+100, height+100)\n",
    "\n",
    "cv2.imshow('Original Image', image)\n",
    "cv2.imshow('Translated image', img_translation)\n",
    "cv2.waitKey(0)\n",
    "cv2.destroyAllWindows()"
   ]
  },
  {
   "cell_type": "code",
   "execution_count": null,
   "id": "ef2edad7-af49-4a0c-8f55-4ef94ec112a4",
   "metadata": {},
   "outputs": [],
   "source": []
  }
 ],
 "metadata": {
  "kernelspec": {
   "display_name": "Python 3 (ipykernel)",
   "language": "python",
   "name": "python3"
  },
  "language_info": {
   "codemirror_mode": {
    "name": "ipython",
    "version": 3
   },
   "file_extension": ".py",
   "mimetype": "text/x-python",
   "name": "python",
   "nbconvert_exporter": "python",
   "pygments_lexer": "ipython3",
   "version": "3.11.7"
  }
 },
 "nbformat": 4,
 "nbformat_minor": 5
}
