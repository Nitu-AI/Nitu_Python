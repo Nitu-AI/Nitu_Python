{
 "cells": [
  {
   "cell_type": "code",
   "execution_count": 1,
   "id": "a2e5ce83-b957-4a50-ba62-6a9ef0e4a4ce",
   "metadata": {},
   "outputs": [],
   "source": [
    "# Dataset: paribas.csv, satandar.csv\n",
    "# Location: https://mitu.co.in/dataset"
   ]
  },
  {
   "cell_type": "code",
   "execution_count": 3,
   "id": "bcf87158-c601-4b35-a5fb-603070ff2722",
   "metadata": {},
   "outputs": [],
   "source": [
    "import pandas as pd\n",
    "import numpy as np\n",
    "import matplotlib.pyplot as plt"
   ]
  },
  {
   "cell_type": "code",
   "execution_count": 4,
   "id": "aa75832d-2ff0-42a1-a9ba-c07405753acc",
   "metadata": {},
   "outputs": [
    {
     "data": {
      "text/plain": [
       "(40000, 371)"
      ]
     },
     "execution_count": 4,
     "metadata": {},
     "output_type": "execute_result"
    }
   ],
   "source": [
    "df = pd.read_csv('datasets/satandar.csv', nrows=40000)\n",
    "df.shape"
   ]
  },
  {
   "cell_type": "code",
   "execution_count": 5,
   "id": "f407d460-a8ad-4ba1-9823-23ac1e7f042c",
   "metadata": {},
   "outputs": [
    {
     "data": {
      "text/plain": [
       "Index(['ID', 'var3', 'var15', 'imp_ent_var16_ult1', 'imp_op_var39_comer_ult1',\n",
       "       'imp_op_var39_comer_ult3', 'imp_op_var40_comer_ult1',\n",
       "       'imp_op_var40_comer_ult3', 'imp_op_var40_efect_ult1',\n",
       "       'imp_op_var40_efect_ult3',\n",
       "       ...\n",
       "       'saldo_medio_var33_hace2', 'saldo_medio_var33_hace3',\n",
       "       'saldo_medio_var33_ult1', 'saldo_medio_var33_ult3',\n",
       "       'saldo_medio_var44_hace2', 'saldo_medio_var44_hace3',\n",
       "       'saldo_medio_var44_ult1', 'saldo_medio_var44_ult3', 'var38', 'TARGET'],\n",
       "      dtype='object', length=371)"
      ]
     },
     "execution_count": 5,
     "metadata": {},
     "output_type": "execute_result"
    }
   ],
   "source": [
    "df.columns"
   ]
  },
  {
   "cell_type": "code",
   "execution_count": 6,
   "id": "2b901bf9-1f12-44eb-a112-e160a50798a8",
   "metadata": {},
   "outputs": [
    {
     "data": {
      "text/plain": [
       "(40000, 370)"
      ]
     },
     "execution_count": 6,
     "metadata": {},
     "output_type": "execute_result"
    }
   ],
   "source": [
    "x = df.drop('TARGET', axis = 1)\n",
    "x.shape"
   ]
  },
  {
   "cell_type": "code",
   "execution_count": 7,
   "id": "13f5fde0-f422-40fe-9fc8-525698609fc8",
   "metadata": {},
   "outputs": [],
   "source": [
    "z = np.array([6,5,4,3,6,7,8,9])"
   ]
  },
  {
   "cell_type": "code",
   "execution_count": 8,
   "id": "05af2a58-491b-4e44-8c80-027c2dbdb5ae",
   "metadata": {},
   "outputs": [
    {
     "data": {
      "text/plain": [
       "3.5"
      ]
     },
     "execution_count": 8,
     "metadata": {},
     "output_type": "execute_result"
    }
   ],
   "source": [
    "z.var()"
   ]
  },
  {
   "cell_type": "code",
   "execution_count": 9,
   "id": "331d66c2-0fda-460d-a62c-df64214dd920",
   "metadata": {},
   "outputs": [
    {
     "data": {
      "text/plain": [
       "3.5"
      ]
     },
     "execution_count": 9,
     "metadata": {},
     "output_type": "execute_result"
    }
   ],
   "source": [
    "np.mean((z - z.mean())**2)"
   ]
  },
  {
   "cell_type": "code",
   "execution_count": 10,
   "id": "a3635702-a659-4983-9ac4-be7df35254e4",
   "metadata": {},
   "outputs": [
    {
     "data": {
      "text/plain": [
       "array([5., 5., 5., 5., 5., 5., 5., 5.])"
      ]
     },
     "execution_count": 10,
     "metadata": {},
     "output_type": "execute_result"
    }
   ],
   "source": [
    "z = np.zeros(8) + 5\n",
    "z"
   ]
  },
  {
   "cell_type": "code",
   "execution_count": 11,
   "id": "5ca36299-37f5-406f-9707-ef914d662b08",
   "metadata": {},
   "outputs": [
    {
     "data": {
      "text/plain": [
       "0.0"
      ]
     },
     "execution_count": 11,
     "metadata": {},
     "output_type": "execute_result"
    }
   ],
   "source": [
    "z.var()"
   ]
  },
  {
   "cell_type": "markdown",
   "id": "3177deec-8679-4305-996f-c4421c3ced39",
   "metadata": {},
   "source": [
    "##### Variance Threshold"
   ]
  },
  {
   "cell_type": "code",
   "execution_count": 12,
   "id": "af7712ea-fb50-424c-8ed7-ea95b314fbf0",
   "metadata": {},
   "outputs": [
    {
     "data": {
      "text/html": [
       "<style>#sk-container-id-1 {color: black;background-color: white;}#sk-container-id-1 pre{padding: 0;}#sk-container-id-1 div.sk-toggleable {background-color: white;}#sk-container-id-1 label.sk-toggleable__label {cursor: pointer;display: block;width: 100%;margin-bottom: 0;padding: 0.3em;box-sizing: border-box;text-align: center;}#sk-container-id-1 label.sk-toggleable__label-arrow:before {content: \"▸\";float: left;margin-right: 0.25em;color: #696969;}#sk-container-id-1 label.sk-toggleable__label-arrow:hover:before {color: black;}#sk-container-id-1 div.sk-estimator:hover label.sk-toggleable__label-arrow:before {color: black;}#sk-container-id-1 div.sk-toggleable__content {max-height: 0;max-width: 0;overflow: hidden;text-align: left;background-color: #f0f8ff;}#sk-container-id-1 div.sk-toggleable__content pre {margin: 0.2em;color: black;border-radius: 0.25em;background-color: #f0f8ff;}#sk-container-id-1 input.sk-toggleable__control:checked~div.sk-toggleable__content {max-height: 200px;max-width: 100%;overflow: auto;}#sk-container-id-1 input.sk-toggleable__control:checked~label.sk-toggleable__label-arrow:before {content: \"▾\";}#sk-container-id-1 div.sk-estimator input.sk-toggleable__control:checked~label.sk-toggleable__label {background-color: #d4ebff;}#sk-container-id-1 div.sk-label input.sk-toggleable__control:checked~label.sk-toggleable__label {background-color: #d4ebff;}#sk-container-id-1 input.sk-hidden--visually {border: 0;clip: rect(1px 1px 1px 1px);clip: rect(1px, 1px, 1px, 1px);height: 1px;margin: -1px;overflow: hidden;padding: 0;position: absolute;width: 1px;}#sk-container-id-1 div.sk-estimator {font-family: monospace;background-color: #f0f8ff;border: 1px dotted black;border-radius: 0.25em;box-sizing: border-box;margin-bottom: 0.5em;}#sk-container-id-1 div.sk-estimator:hover {background-color: #d4ebff;}#sk-container-id-1 div.sk-parallel-item::after {content: \"\";width: 100%;border-bottom: 1px solid gray;flex-grow: 1;}#sk-container-id-1 div.sk-label:hover label.sk-toggleable__label {background-color: #d4ebff;}#sk-container-id-1 div.sk-serial::before {content: \"\";position: absolute;border-left: 1px solid gray;box-sizing: border-box;top: 0;bottom: 0;left: 50%;z-index: 0;}#sk-container-id-1 div.sk-serial {display: flex;flex-direction: column;align-items: center;background-color: white;padding-right: 0.2em;padding-left: 0.2em;position: relative;}#sk-container-id-1 div.sk-item {position: relative;z-index: 1;}#sk-container-id-1 div.sk-parallel {display: flex;align-items: stretch;justify-content: center;background-color: white;position: relative;}#sk-container-id-1 div.sk-item::before, #sk-container-id-1 div.sk-parallel-item::before {content: \"\";position: absolute;border-left: 1px solid gray;box-sizing: border-box;top: 0;bottom: 0;left: 50%;z-index: -1;}#sk-container-id-1 div.sk-parallel-item {display: flex;flex-direction: column;z-index: 1;position: relative;background-color: white;}#sk-container-id-1 div.sk-parallel-item:first-child::after {align-self: flex-end;width: 50%;}#sk-container-id-1 div.sk-parallel-item:last-child::after {align-self: flex-start;width: 50%;}#sk-container-id-1 div.sk-parallel-item:only-child::after {width: 0;}#sk-container-id-1 div.sk-dashed-wrapped {border: 1px dashed gray;margin: 0 0.4em 0.5em 0.4em;box-sizing: border-box;padding-bottom: 0.4em;background-color: white;}#sk-container-id-1 div.sk-label label {font-family: monospace;font-weight: bold;display: inline-block;line-height: 1.2em;}#sk-container-id-1 div.sk-label-container {text-align: center;}#sk-container-id-1 div.sk-container {/* jupyter's `normalize.less` sets `[hidden] { display: none; }` but bootstrap.min.css set `[hidden] { display: none !important; }` so we also need the `!important` here to be able to override the default hidden behavior on the sphinx rendered scikit-learn.org. See: https://github.com/scikit-learn/scikit-learn/issues/21755 */display: inline-block !important;position: relative;}#sk-container-id-1 div.sk-text-repr-fallback {display: none;}</style><div id=\"sk-container-id-1\" class=\"sk-top-container\"><div class=\"sk-text-repr-fallback\"><pre>VarianceThreshold(threshold=0)</pre><b>In a Jupyter environment, please rerun this cell to show the HTML representation or trust the notebook. <br />On GitHub, the HTML representation is unable to render, please try loading this page with nbviewer.org.</b></div><div class=\"sk-container\" hidden><div class=\"sk-item\"><div class=\"sk-estimator sk-toggleable\"><input class=\"sk-toggleable__control sk-hidden--visually\" id=\"sk-estimator-id-1\" type=\"checkbox\" checked><label for=\"sk-estimator-id-1\" class=\"sk-toggleable__label sk-toggleable__label-arrow\">VarianceThreshold</label><div class=\"sk-toggleable__content\"><pre>VarianceThreshold(threshold=0)</pre></div></div></div></div></div>"
      ],
      "text/plain": [
       "VarianceThreshold(threshold=0)"
      ]
     },
     "execution_count": 12,
     "metadata": {},
     "output_type": "execute_result"
    }
   ],
   "source": [
    "from sklearn.feature_selection import VarianceThreshold\n",
    "vt = VarianceThreshold(threshold=0)\n",
    "vt.fit(x)"
   ]
  },
  {
   "cell_type": "code",
   "execution_count": 13,
   "id": "dc390b85-f412-4cff-ab32-8c264413198c",
   "metadata": {},
   "outputs": [
    {
     "data": {
      "text/plain": [
       "array([ True,  True,  True,  True,  True,  True,  True,  True,  True,\n",
       "        True,  True,  True,  True,  True,  True,  True,  True,  True,\n",
       "        True,  True,  True,  True, False, False,  True,  True,  True,\n",
       "        True,  True,  True,  True,  True,  True,  True,  True,  True,\n",
       "        True,  True,  True,  True,  True,  True,  True,  True, False,\n",
       "       False,  True,  True,  True,  True,  True,  True,  True,  True,\n",
       "        True,  True,  True, False, False, False, False,  True,  True,\n",
       "        True,  True,  True,  True,  True,  True,  True,  True,  True,\n",
       "       False, False,  True,  True,  True,  True,  True,  True,  True,\n",
       "       False,  True,  True,  True, False, False,  True,  True,  True,\n",
       "        True,  True,  True,  True,  True,  True,  True,  True,  True,\n",
       "        True,  True,  True,  True,  True,  True,  True,  True,  True,\n",
       "        True,  True, False, False,  True,  True,  True,  True,  True,\n",
       "        True,  True,  True,  True,  True,  True,  True,  True,  True,\n",
       "        True,  True,  True,  True,  True,  True, False, False, False,\n",
       "       False,  True,  True,  True,  True,  True,  True,  True,  True,\n",
       "        True,  True, False, False,  True,  True,  True,  True,  True,\n",
       "        True,  True,  True, False,  True,  True,  True,  True,  True,\n",
       "       False, False,  True,  True,  True,  True,  True,  True,  True,\n",
       "        True,  True,  True,  True, False,  True,  True,  True,  True,\n",
       "       False, False,  True,  True,  True,  True,  True, False,  True,\n",
       "        True, False,  True,  True, False,  True, False, False,  True,\n",
       "        True,  True,  True,  True,  True,  True,  True,  True,  True,\n",
       "        True,  True,  True,  True,  True,  True,  True,  True,  True,\n",
       "        True,  True,  True,  True,  True, False, False, False, False,\n",
       "        True,  True,  True,  True,  True,  True,  True,  True,  True,\n",
       "        True, False,  True, False,  True, False,  True,  True,  True,\n",
       "        True,  True, False,  True,  True,  True, False,  True,  True,\n",
       "        True,  True,  True,  True,  True,  True,  True,  True,  True,\n",
       "        True, False, False,  True,  True,  True,  True,  True,  True,\n",
       "        True,  True,  True,  True,  True,  True,  True,  True,  True,\n",
       "        True,  True,  True,  True,  True,  True,  True,  True,  True,\n",
       "        True,  True,  True,  True,  True,  True,  True,  True,  True,\n",
       "        True,  True,  True,  True,  True,  True,  True, False,  True,\n",
       "       False,  True, False,  True,  True,  True,  True,  True,  True,\n",
       "        True, False,  True,  True,  True, False,  True,  True,  True,\n",
       "        True,  True,  True,  True, False,  True,  True,  True,  True,\n",
       "        True,  True,  True,  True,  True,  True,  True,  True,  True,\n",
       "        True,  True,  True,  True,  True,  True,  True,  True, False,\n",
       "        True,  True,  True,  True,  True,  True,  True,  True,  True,\n",
       "        True,  True,  True,  True,  True,  True,  True,  True,  True,\n",
       "        True])"
      ]
     },
     "execution_count": 13,
     "metadata": {},
     "output_type": "execute_result"
    }
   ],
   "source": [
    "vt.get_support()"
   ]
  },
  {
   "cell_type": "code",
   "execution_count": 14,
   "id": "1d7506cd-6dff-4b9c-90ba-55558852a4ef",
   "metadata": {},
   "outputs": [
    {
     "data": {
      "text/plain": [
       "320"
      ]
     },
     "execution_count": 14,
     "metadata": {},
     "output_type": "execute_result"
    }
   ],
   "source": [
    "sum(vt.get_support())"
   ]
  },
  {
   "cell_type": "code",
   "execution_count": 17,
   "id": "81fc5c80-1d00-4e26-af0a-c0668bd7aa5c",
   "metadata": {},
   "outputs": [
    {
     "data": {
      "text/plain": [
       "(40000, 320)"
      ]
     },
     "execution_count": 17,
     "metadata": {},
     "output_type": "execute_result"
    }
   ],
   "source": [
    "x_new = x.loc[:,  vt.get_support()]\n",
    "x_new.shape"
   ]
  },
  {
   "cell_type": "markdown",
   "id": "6c56e0fa-1dc4-4406-98bb-76f16a5ec4b8",
   "metadata": {},
   "source": [
    "##### Duplicate Feature Removal"
   ]
  },
  {
   "cell_type": "code",
   "execution_count": 18,
   "id": "c998e3da-55d7-4586-8474-2addeba7be0f",
   "metadata": {},
   "outputs": [
    {
     "data": {
      "text/plain": [
       "0        False\n",
       "1        False\n",
       "2        False\n",
       "3        False\n",
       "4        False\n",
       "         ...  \n",
       "39995    False\n",
       "39996    False\n",
       "39997    False\n",
       "39998    False\n",
       "39999    False\n",
       "Length: 40000, dtype: bool"
      ]
     },
     "execution_count": 18,
     "metadata": {},
     "output_type": "execute_result"
    }
   ],
   "source": [
    "x.duplicated()"
   ]
  },
  {
   "cell_type": "code",
   "execution_count": 19,
   "id": "95b143da-d095-47c6-8ed3-164e0a071080",
   "metadata": {},
   "outputs": [],
   "source": [
    "xt = x.T"
   ]
  },
  {
   "cell_type": "code",
   "execution_count": 20,
   "id": "4539e820-9434-48e7-ac54-92e317f45fa8",
   "metadata": {},
   "outputs": [
    {
     "data": {
      "text/plain": [
       "(370, 40000)"
      ]
     },
     "execution_count": 20,
     "metadata": {},
     "output_type": "execute_result"
    }
   ],
   "source": [
    "xt.shape"
   ]
  },
  {
   "cell_type": "code",
   "execution_count": 21,
   "id": "c7c22fe8-cfcc-4ebc-a363-665a8f9deea4",
   "metadata": {},
   "outputs": [
    {
     "data": {
      "text/plain": [
       "ID                         False\n",
       "var3                       False\n",
       "var15                      False\n",
       "imp_ent_var16_ult1         False\n",
       "imp_op_var39_comer_ult1    False\n",
       "                           ...  \n",
       "saldo_medio_var44_hace2    False\n",
       "saldo_medio_var44_hace3    False\n",
       "saldo_medio_var44_ult1     False\n",
       "saldo_medio_var44_ult3     False\n",
       "var38                      False\n",
       "Length: 370, dtype: bool"
      ]
     },
     "execution_count": 21,
     "metadata": {},
     "output_type": "execute_result"
    }
   ],
   "source": [
    "xt.duplicated()"
   ]
  },
  {
   "cell_type": "code",
   "execution_count": 22,
   "id": "2aff8888-e435-4790-8740-84c6104cceff",
   "metadata": {},
   "outputs": [
    {
     "data": {
      "text/plain": [
       "79"
      ]
     },
     "execution_count": 22,
     "metadata": {},
     "output_type": "execute_result"
    }
   ],
   "source": [
    "sum(xt.duplicated())"
   ]
  },
  {
   "cell_type": "code",
   "execution_count": 23,
   "id": "b7a3be31-d86c-4a06-a0d3-b18d3737f739",
   "metadata": {},
   "outputs": [],
   "source": [
    "xt.drop_duplicates(inplace=True)"
   ]
  },
  {
   "cell_type": "code",
   "execution_count": 24,
   "id": "03630781-bef0-4a22-b417-2b06c316d8a0",
   "metadata": {},
   "outputs": [
    {
     "data": {
      "text/plain": [
       "(40000, 291)"
      ]
     },
     "execution_count": 24,
     "metadata": {},
     "output_type": "execute_result"
    }
   ],
   "source": [
    "x = xt.T\n",
    "x.shape"
   ]
  },
  {
   "cell_type": "markdown",
   "id": "f0cc5395-d58c-4320-8c0a-b1764c4a4e45",
   "metadata": {},
   "source": [
    "##### Remove correlated Feature"
   ]
  },
  {
   "cell_type": "code",
   "execution_count": 25,
   "id": "a97c72a4-fc99-4f80-9c75-8b46bffc23bd",
   "metadata": {},
   "outputs": [],
   "source": [
    "a = np.array([12,34,45,51,57,67,78,89,93,95])\n",
    "b = np.array([5,9,11,16,23,31,37,51,44,50])\n",
    "c = np.array([56,54,34,48,33,21,11,16,5,2])\n",
    "d = np.array([67,65,34,27,54,33,67,44,27,53])"
   ]
  },
  {
   "cell_type": "code",
   "execution_count": 26,
   "id": "01b0070c-2863-4970-9f87-475696219bbe",
   "metadata": {},
   "outputs": [
    {
     "data": {
      "text/plain": [
       "[<matplotlib.lines.Line2D at 0x204bdda9610>]"
      ]
     },
     "execution_count": 26,
     "metadata": {},
     "output_type": "execute_result"
    },
    {
     "data": {
      "image/png": "[encoded data removed]",
      "text/plain": [
       "<Figure size 640x480 with 1 Axes>"
      ]
     },
     "metadata": {},
     "output_type": "display_data"
    }
   ],
   "source": [
    "plt.plot(a, b)"
   ]
  },
  {
   "cell_type": "code",
   "execution_count": 27,
   "id": "5cec0667-6db3-4eeb-bd5c-8e6af563ac8b",
   "metadata": {},
   "outputs": [
    {
     "data": {
      "text/plain": [
       "array([[1.        , 0.96433974],\n",
       "       [0.96433974, 1.        ]])"
      ]
     },
     "execution_count": 27,
     "metadata": {},
     "output_type": "execute_result"
    }
   ],
   "source": [
    "np.corrcoef(a, b)"
   ]
  },
  {
   "cell_type": "code",
   "execution_count": 28,
   "id": "3fc3e33d-2d11-4f7b-ba3c-fe8be95393c5",
   "metadata": {},
   "outputs": [
    {
     "data": {
      "text/plain": [
       "[<matplotlib.lines.Line2D at 0x204b5cb3d90>]"
      ]
     },
     "execution_count": 28,
     "metadata": {},
     "output_type": "execute_result"
    },
    {
     "data": {
      "image/png": "[encoded data removed]",
      "text/plain": [
       "<Figure size 640x480 with 1 Axes>"
      ]
     },
     "metadata": {},
     "output_type": "display_data"
    }
   ],
   "source": [
    " plt.plot(a, c)"
   ]
  },
  {
   "cell_type": "code",
   "execution_count": 29,
   "id": "ca0a3ddf-c787-452c-8cd9-6739fed28aaf",
   "metadata": {},
   "outputs": [
    {
     "data": {
      "text/plain": [
       "array([[ 1.       , -0.9457024],\n",
       "       [-0.9457024,  1.       ]])"
      ]
     },
     "execution_count": 29,
     "metadata": {},
     "output_type": "execute_result"
    }
   ],
   "source": [
    "np.corrcoef(a, c)"
   ]
  },
  {
   "cell_type": "code",
   "execution_count": 31,
   "id": "ec835a7f-3bdb-4c9d-9050-2b015475049f",
   "metadata": {},
   "outputs": [
    {
     "data": {
      "text/plain": [
       "[<matplotlib.lines.Line2D at 0x204bde39e10>]"
      ]
     },
     "execution_count": 31,
     "metadata": {},
     "output_type": "execute_result"
    },
    {
     "data": {
      "image/png": "[encoded data removed]",
      "text/plain": [
       "<Figure size 640x480 with 1 Axes>"
      ]
     },
     "metadata": {},
     "output_type": "display_data"
    }
   ],
   "source": [
    "plt.plot(a, c)"
   ]
  },
  {
   "cell_type": "code",
   "execution_count": 32,
   "id": "90e9113a-08d5-492b-a0d7-e0a58b2b4abd",
   "metadata": {},
   "outputs": [
    {
     "data": {
      "text/plain": [
       "array([[ 1.        , -0.33616692],\n",
       "       [-0.33616692,  1.        ]])"
      ]
     },
     "execution_count": 32,
     "metadata": {},
     "output_type": "execute_result"
    }
   ],
   "source": [
    "np.corrcoef(a, d)"
   ]
  },
  {
   "cell_type": "code",
   "execution_count": 33,
   "id": "fb35598a-7343-414f-8088-42548e9a23e5",
   "metadata": {},
   "outputs": [],
   "source": [
    "df = pd.read_csv('datasets/paribas.csv', nrows=20000)"
   ]
  },
  {
   "cell_type": "code",
   "execution_count": 34,
   "id": "f1124c4e-bc5e-4110-8cb8-d528dfb9e83d",
   "metadata": {},
   "outputs": [
    {
     "data": {
      "text/plain": [
       "(20000, 133)"
      ]
     },
     "execution_count": 34,
     "metadata": {},
     "output_type": "execute_result"
    }
   ],
   "source": [
    "df.shape"
   ]
  },
  {
   "cell_type": "code",
   "execution_count": 35,
   "id": "344da88b-0796-49e2-99f5-08a25b65b664",
   "metadata": {},
   "outputs": [],
   "source": [
    "x = df.drop('target', axis = 1)"
   ]
  },
  {
   "cell_type": "code",
   "execution_count": 36,
   "id": "f1831b4b-c3d9-4b5c-adff-95753841fcce",
   "metadata": {},
   "outputs": [
    {
     "data": {
      "text/plain": [
       "(20000, 132)"
      ]
     },
     "execution_count": 36,
     "metadata": {},
     "output_type": "execute_result"
    }
   ],
   "source": [
    "x.shape"
   ]
  },
  {
   "cell_type": "code",
   "execution_count": 37,
   "id": "ac3733a6-58ff-454c-88a7-faf3618968b6",
   "metadata": {},
   "outputs": [
    {
     "name": "stdout",
     "output_type": "stream",
     "text": [
      "<class 'pandas.core.frame.DataFrame'>\n",
      "RangeIndex: 20000 entries, 0 to 19999\n",
      "Columns: 132 entries, ID to v131\n",
      "dtypes: float64(108), int64(5), object(19)\n",
      "memory usage: 20.1+ MB\n"
     ]
    }
   ],
   "source": [
    "x.info()"
   ]
  },
  {
   "cell_type": "code",
   "execution_count": 38,
   "id": "0f414bfa-2675-45e8-9c3b-32de3910a664",
   "metadata": {},
   "outputs": [],
   "source": [
    "cols = ['int64','float64']"
   ]
  },
  {
   "cell_type": "code",
   "execution_count": 41,
   "id": "60e4400e-9625-4b42-8656-943e77d33014",
   "metadata": {},
   "outputs": [],
   "source": [
    "numerical_columns = list(x.select_dtypes(include=cols).columns)"
   ]
  },
  {
   "cell_type": "code",
   "execution_count": 42,
   "id": "43bed240-8bef-435e-9ebb-782aaaacc45d",
   "metadata": {},
   "outputs": [
    {
     "data": {
      "text/plain": [
       "113"
      ]
     },
     "execution_count": 42,
     "metadata": {},
     "output_type": "execute_result"
    }
   ],
   "source": [
    "len(numerical_columns)"
   ]
  },
  {
   "cell_type": "code",
   "execution_count": 43,
   "id": "a11ac18c-ef4d-4cbf-a895-b1c814902ada",
   "metadata": {},
   "outputs": [
    {
     "data": {
      "text/plain": [
       "['ID',\n",
       " 'v1',\n",
       " 'v2',\n",
       " 'v4',\n",
       " 'v5',\n",
       " 'v6',\n",
       " 'v7',\n",
       " 'v8',\n",
       " 'v9',\n",
       " 'v10',\n",
       " 'v11',\n",
       " 'v12',\n",
       " 'v13',\n",
       " 'v14',\n",
       " 'v15',\n",
       " 'v16',\n",
       " 'v17',\n",
       " 'v18',\n",
       " 'v19',\n",
       " 'v20',\n",
       " 'v21',\n",
       " 'v23',\n",
       " 'v25',\n",
       " 'v26',\n",
       " 'v27',\n",
       " 'v28',\n",
       " 'v29',\n",
       " 'v32',\n",
       " 'v33',\n",
       " 'v34',\n",
       " 'v35',\n",
       " 'v36',\n",
       " 'v37',\n",
       " 'v38',\n",
       " 'v39',\n",
       " 'v40',\n",
       " 'v41',\n",
       " 'v42',\n",
       " 'v43',\n",
       " 'v44',\n",
       " 'v45',\n",
       " 'v46',\n",
       " 'v48',\n",
       " 'v49',\n",
       " 'v50',\n",
       " 'v51',\n",
       " 'v53',\n",
       " 'v54',\n",
       " 'v55',\n",
       " 'v57',\n",
       " 'v58',\n",
       " 'v59',\n",
       " 'v60',\n",
       " 'v61',\n",
       " 'v62',\n",
       " 'v63',\n",
       " 'v64',\n",
       " 'v65',\n",
       " 'v67',\n",
       " 'v68',\n",
       " 'v69',\n",
       " 'v70',\n",
       " 'v72',\n",
       " 'v73',\n",
       " 'v76',\n",
       " 'v77',\n",
       " 'v78',\n",
       " 'v80',\n",
       " 'v81',\n",
       " 'v82',\n",
       " 'v83',\n",
       " 'v84',\n",
       " 'v85',\n",
       " 'v86',\n",
       " 'v87',\n",
       " 'v88',\n",
       " 'v89',\n",
       " 'v90',\n",
       " 'v92',\n",
       " 'v93',\n",
       " 'v94',\n",
       " 'v95',\n",
       " 'v96',\n",
       " 'v97',\n",
       " 'v98',\n",
       " 'v99',\n",
       " 'v100',\n",
       " 'v101',\n",
       " 'v102',\n",
       " 'v103',\n",
       " 'v104',\n",
       " 'v105',\n",
       " 'v106',\n",
       " 'v108',\n",
       " 'v109',\n",
       " 'v111',\n",
       " 'v114',\n",
       " 'v115',\n",
       " 'v116',\n",
       " 'v117',\n",
       " 'v118',\n",
       " 'v119',\n",
       " 'v120',\n",
       " 'v121',\n",
       " 'v122',\n",
       " 'v123',\n",
       " 'v124',\n",
       " 'v126',\n",
       " 'v127',\n",
       " 'v128',\n",
       " 'v129',\n",
       " 'v130',\n",
       " 'v131']"
      ]
     },
     "execution_count": 43,
     "metadata": {},
     "output_type": "execute_result"
    }
   ],
   "source": [
    "numerical_columns"
   ]
  },
  {
   "cell_type": "code",
   "execution_count": 44,
   "id": "51728a5f-b4b4-4395-a75f-dee2ca5a62c8",
   "metadata": {},
   "outputs": [],
   "source": [
    "x = x[numerical_columns]"
   ]
  },
  {
   "cell_type": "code",
   "execution_count": 45,
   "id": "1ef4f2b6-82bd-4084-b1df-7b4a0e115f01",
   "metadata": {},
   "outputs": [
    {
     "data": {
      "text/plain": [
       "(20000, 113)"
      ]
     },
     "execution_count": 45,
     "metadata": {},
     "output_type": "execute_result"
    }
   ],
   "source": [
    "x.shape"
   ]
  },
  {
   "cell_type": "code",
   "execution_count": 46,
   "id": "0d400fa8-339b-4f54-9e5c-50144dfbc117",
   "metadata": {},
   "outputs": [
    {
     "name": "stdout",
     "output_type": "stream",
     "text": [
      "<class 'pandas.core.frame.DataFrame'>\n",
      "RangeIndex: 20000 entries, 0 to 19999\n",
      "Columns: 113 entries, ID to v131\n",
      "dtypes: float64(108), int64(5)\n",
      "memory usage: 17.2 MB\n"
     ]
    }
   ],
   "source": [
    "x.info()"
   ]
  },
  {
   "cell_type": "code",
   "execution_count": 54,
   "id": "edc042c8-dc2d-47ea-bc0a-0431317bcd41",
   "metadata": {},
   "outputs": [],
   "source": [
    "correlated_features = set()\n",
    "corelation_matrix = x.corr()"
   ]
  },
  {
   "cell_type": "code",
   "execution_count": 55,
   "id": "bcf8d43a-aa67-49e7-8647-e17d08d9031c",
   "metadata": {},
   "outputs": [
    {
     "data": {
      "text/html": [
       "<div>\n",
       "<style scoped>\n",
       "    .dataframe tbody tr th:only-of-type {\n",
       "        vertical-align: middle;\n",
       "    }\n",
       "\n",
       "    .dataframe tbody tr th {\n",
       "        vertical-align: top;\n",
       "    }\n",
       "\n",
       "    .dataframe thead th {\n",
       "        text-align: right;\n",
       "    }\n",
       "</style>\n",
       "<table border=\"1\" class=\"dataframe\">\n",
       "  <thead>\n",
       "    <tr style=\"text-align: right;\">\n",
       "      <th></th>\n",
       "      <th>ID</th>\n",
       "      <th>v1</th>\n",
       "      <th>v2</th>\n",
       "      <th>v4</th>\n",
       "      <th>v5</th>\n",
       "      <th>v6</th>\n",
       "      <th>v7</th>\n",
       "      <th>v8</th>\n",
       "      <th>v9</th>\n",
       "      <th>v10</th>\n",
       "      <th>...</th>\n",
       "      <th>v121</th>\n",
       "      <th>v122</th>\n",
       "      <th>v123</th>\n",
       "      <th>v124</th>\n",
       "      <th>v126</th>\n",
       "      <th>v127</th>\n",
       "      <th>v128</th>\n",
       "      <th>v129</th>\n",
       "      <th>v130</th>\n",
       "      <th>v131</th>\n",
       "    </tr>\n",
       "  </thead>\n",
       "  <tbody>\n",
       "    <tr>\n",
       "      <th>ID</th>\n",
       "      <td>1.000000</td>\n",
       "      <td>0.004817</td>\n",
       "      <td>0.001134</td>\n",
       "      <td>-0.003499</td>\n",
       "      <td>0.002015</td>\n",
       "      <td>-0.010675</td>\n",
       "      <td>-0.002102</td>\n",
       "      <td>-0.002202</td>\n",
       "      <td>0.000506</td>\n",
       "      <td>0.000844</td>\n",
       "      <td>...</td>\n",
       "      <td>0.017562</td>\n",
       "      <td>-0.001780</td>\n",
       "      <td>0.007956</td>\n",
       "      <td>0.001076</td>\n",
       "      <td>-0.003765</td>\n",
       "      <td>0.002461</td>\n",
       "      <td>0.001904</td>\n",
       "      <td>-0.004063</td>\n",
       "      <td>0.010092</td>\n",
       "      <td>-0.003948</td>\n",
       "    </tr>\n",
       "    <tr>\n",
       "      <th>v1</th>\n",
       "      <td>0.004817</td>\n",
       "      <td>1.000000</td>\n",
       "      <td>-0.205826</td>\n",
       "      <td>-0.145037</td>\n",
       "      <td>-0.049337</td>\n",
       "      <td>-0.020251</td>\n",
       "      <td>0.089950</td>\n",
       "      <td>0.160309</td>\n",
       "      <td>-0.035394</td>\n",
       "      <td>-0.006785</td>\n",
       "      <td>...</td>\n",
       "      <td>0.340779</td>\n",
       "      <td>-0.137999</td>\n",
       "      <td>0.292999</td>\n",
       "      <td>0.164169</td>\n",
       "      <td>0.025936</td>\n",
       "      <td>-0.018762</td>\n",
       "      <td>-0.010806</td>\n",
       "      <td>-0.015788</td>\n",
       "      <td>0.253119</td>\n",
       "      <td>0.709122</td>\n",
       "    </tr>\n",
       "    <tr>\n",
       "      <th>v2</th>\n",
       "      <td>0.001134</td>\n",
       "      <td>-0.205826</td>\n",
       "      <td>1.000000</td>\n",
       "      <td>0.542216</td>\n",
       "      <td>0.195646</td>\n",
       "      <td>0.025525</td>\n",
       "      <td>0.351704</td>\n",
       "      <td>-0.367639</td>\n",
       "      <td>-0.012757</td>\n",
       "      <td>0.055303</td>\n",
       "      <td>...</td>\n",
       "      <td>-0.571877</td>\n",
       "      <td>0.169172</td>\n",
       "      <td>-0.592534</td>\n",
       "      <td>-0.261420</td>\n",
       "      <td>-0.111644</td>\n",
       "      <td>0.011387</td>\n",
       "      <td>0.259107</td>\n",
       "      <td>0.074142</td>\n",
       "      <td>-0.576703</td>\n",
       "      <td>0.183870</td>\n",
       "    </tr>\n",
       "    <tr>\n",
       "      <th>v4</th>\n",
       "      <td>-0.003499</td>\n",
       "      <td>-0.145037</td>\n",
       "      <td>0.542216</td>\n",
       "      <td>1.000000</td>\n",
       "      <td>0.251530</td>\n",
       "      <td>0.387779</td>\n",
       "      <td>0.483067</td>\n",
       "      <td>-0.179696</td>\n",
       "      <td>-0.191921</td>\n",
       "      <td>0.085467</td>\n",
       "      <td>...</td>\n",
       "      <td>-0.618385</td>\n",
       "      <td>0.058058</td>\n",
       "      <td>-0.711291</td>\n",
       "      <td>-0.063270</td>\n",
       "      <td>-0.130919</td>\n",
       "      <td>0.299857</td>\n",
       "      <td>0.487635</td>\n",
       "      <td>0.109600</td>\n",
       "      <td>-0.702047</td>\n",
       "      <td>0.304914</td>\n",
       "    </tr>\n",
       "    <tr>\n",
       "      <th>v5</th>\n",
       "      <td>0.002015</td>\n",
       "      <td>-0.049337</td>\n",
       "      <td>0.195646</td>\n",
       "      <td>0.251530</td>\n",
       "      <td>1.000000</td>\n",
       "      <td>0.238449</td>\n",
       "      <td>0.045411</td>\n",
       "      <td>0.003512</td>\n",
       "      <td>-0.168616</td>\n",
       "      <td>0.045830</td>\n",
       "      <td>...</td>\n",
       "      <td>-0.341398</td>\n",
       "      <td>0.012811</td>\n",
       "      <td>-0.217315</td>\n",
       "      <td>0.080085</td>\n",
       "      <td>-0.102563</td>\n",
       "      <td>-0.224641</td>\n",
       "      <td>0.600132</td>\n",
       "      <td>0.045623</td>\n",
       "      <td>-0.240718</td>\n",
       "      <td>0.153459</td>\n",
       "    </tr>\n",
       "    <tr>\n",
       "      <th>...</th>\n",
       "      <td>...</td>\n",
       "      <td>...</td>\n",
       "      <td>...</td>\n",
       "      <td>...</td>\n",
       "      <td>...</td>\n",
       "      <td>...</td>\n",
       "      <td>...</td>\n",
       "      <td>...</td>\n",
       "      <td>...</td>\n",
       "      <td>...</td>\n",
       "      <td>...</td>\n",
       "      <td>...</td>\n",
       "      <td>...</td>\n",
       "      <td>...</td>\n",
       "      <td>...</td>\n",
       "      <td>...</td>\n",
       "      <td>...</td>\n",
       "      <td>...</td>\n",
       "      <td>...</td>\n",
       "      <td>...</td>\n",
       "      <td>...</td>\n",
       "    </tr>\n",
       "    <tr>\n",
       "      <th>v127</th>\n",
       "      <td>0.002461</td>\n",
       "      <td>-0.018762</td>\n",
       "      <td>0.011387</td>\n",
       "      <td>0.299857</td>\n",
       "      <td>-0.224641</td>\n",
       "      <td>0.169701</td>\n",
       "      <td>0.247932</td>\n",
       "      <td>-0.015149</td>\n",
       "      <td>0.123628</td>\n",
       "      <td>0.002826</td>\n",
       "      <td>...</td>\n",
       "      <td>0.017564</td>\n",
       "      <td>0.094302</td>\n",
       "      <td>-0.162525</td>\n",
       "      <td>-0.050666</td>\n",
       "      <td>-0.079944</td>\n",
       "      <td>1.000000</td>\n",
       "      <td>-0.161000</td>\n",
       "      <td>-0.001564</td>\n",
       "      <td>-0.244848</td>\n",
       "      <td>0.054744</td>\n",
       "    </tr>\n",
       "    <tr>\n",
       "      <th>v128</th>\n",
       "      <td>0.001904</td>\n",
       "      <td>-0.010806</td>\n",
       "      <td>0.259107</td>\n",
       "      <td>0.487635</td>\n",
       "      <td>0.600132</td>\n",
       "      <td>0.240302</td>\n",
       "      <td>0.088061</td>\n",
       "      <td>0.019486</td>\n",
       "      <td>-0.268033</td>\n",
       "      <td>0.054684</td>\n",
       "      <td>...</td>\n",
       "      <td>-0.372598</td>\n",
       "      <td>-0.043031</td>\n",
       "      <td>-0.256838</td>\n",
       "      <td>0.279839</td>\n",
       "      <td>-0.154822</td>\n",
       "      <td>-0.161000</td>\n",
       "      <td>1.000000</td>\n",
       "      <td>0.059893</td>\n",
       "      <td>-0.287794</td>\n",
       "      <td>0.243623</td>\n",
       "    </tr>\n",
       "    <tr>\n",
       "      <th>v129</th>\n",
       "      <td>-0.004063</td>\n",
       "      <td>-0.015788</td>\n",
       "      <td>0.074142</td>\n",
       "      <td>0.109600</td>\n",
       "      <td>0.045623</td>\n",
       "      <td>0.050278</td>\n",
       "      <td>0.041350</td>\n",
       "      <td>-0.019332</td>\n",
       "      <td>-0.035212</td>\n",
       "      <td>0.505573</td>\n",
       "      <td>...</td>\n",
       "      <td>-0.090282</td>\n",
       "      <td>0.005121</td>\n",
       "      <td>-0.101049</td>\n",
       "      <td>-0.009529</td>\n",
       "      <td>-0.024423</td>\n",
       "      <td>-0.001564</td>\n",
       "      <td>0.059893</td>\n",
       "      <td>1.000000</td>\n",
       "      <td>-0.082056</td>\n",
       "      <td>0.045038</td>\n",
       "    </tr>\n",
       "    <tr>\n",
       "      <th>v130</th>\n",
       "      <td>0.010092</td>\n",
       "      <td>0.253119</td>\n",
       "      <td>-0.576703</td>\n",
       "      <td>-0.702047</td>\n",
       "      <td>-0.240718</td>\n",
       "      <td>-0.304129</td>\n",
       "      <td>-0.625145</td>\n",
       "      <td>0.323090</td>\n",
       "      <td>0.084667</td>\n",
       "      <td>-0.072778</td>\n",
       "      <td>...</td>\n",
       "      <td>0.809328</td>\n",
       "      <td>-0.190182</td>\n",
       "      <td>0.727563</td>\n",
       "      <td>0.227784</td>\n",
       "      <td>0.080568</td>\n",
       "      <td>-0.244848</td>\n",
       "      <td>-0.287794</td>\n",
       "      <td>-0.082056</td>\n",
       "      <td>1.000000</td>\n",
       "      <td>-0.264040</td>\n",
       "    </tr>\n",
       "    <tr>\n",
       "      <th>v131</th>\n",
       "      <td>-0.003948</td>\n",
       "      <td>0.709122</td>\n",
       "      <td>0.183870</td>\n",
       "      <td>0.304914</td>\n",
       "      <td>0.153459</td>\n",
       "      <td>0.153066</td>\n",
       "      <td>0.321801</td>\n",
       "      <td>-0.036547</td>\n",
       "      <td>-0.158470</td>\n",
       "      <td>0.045021</td>\n",
       "      <td>...</td>\n",
       "      <td>-0.249248</td>\n",
       "      <td>-0.015075</td>\n",
       "      <td>-0.179715</td>\n",
       "      <td>0.030289</td>\n",
       "      <td>-0.030868</td>\n",
       "      <td>0.054744</td>\n",
       "      <td>0.243623</td>\n",
       "      <td>0.045038</td>\n",
       "      <td>-0.264040</td>\n",
       "      <td>1.000000</td>\n",
       "    </tr>\n",
       "  </tbody>\n",
       "</table>\n",
       "<p>113 rows × 113 columns</p>\n",
       "</div>"
      ],
      "text/plain": [
       "            ID        v1        v2        v4        v5        v6        v7  \\\n",
       "ID    1.000000  0.004817  0.001134 -0.003499  0.002015 -0.010675 -0.002102   \n",
       "v1    0.004817  1.000000 -0.205826 -0.145037 -0.049337 -0.020251  0.089950   \n",
       "v2    0.001134 -0.205826  1.000000  0.542216  0.195646  0.025525  0.351704   \n",
       "v4   -0.003499 -0.145037  0.542216  1.000000  0.251530  0.387779  0.483067   \n",
       "v5    0.002015 -0.049337  0.195646  0.251530  1.000000  0.238449  0.045411   \n",
       "...        ...       ...       ...       ...       ...       ...       ...   \n",
       "v127  0.002461 -0.018762  0.011387  0.299857 -0.224641  0.169701  0.247932   \n",
       "v128  0.001904 -0.010806  0.259107  0.487635  0.600132  0.240302  0.088061   \n",
       "v129 -0.004063 -0.015788  0.074142  0.109600  0.045623  0.050278  0.041350   \n",
       "v130  0.010092  0.253119 -0.576703 -0.702047 -0.240718 -0.304129 -0.625145   \n",
       "v131 -0.003948  0.709122  0.183870  0.304914  0.153459  0.153066  0.321801   \n",
       "\n",
       "            v8        v9       v10  ...      v121      v122      v123  \\\n",
       "ID   -0.002202  0.000506  0.000844  ...  0.017562 -0.001780  0.007956   \n",
       "v1    0.160309 -0.035394 -0.006785  ...  0.340779 -0.137999  0.292999   \n",
       "v2   -0.367639 -0.012757  0.055303  ... -0.571877  0.169172 -0.592534   \n",
       "v4   -0.179696 -0.191921  0.085467  ... -0.618385  0.058058 -0.711291   \n",
       "v5    0.003512 -0.168616  0.045830  ... -0.341398  0.012811 -0.217315   \n",
       "...        ...       ...       ...  ...       ...       ...       ...   \n",
       "v127 -0.015149  0.123628  0.002826  ...  0.017564  0.094302 -0.162525   \n",
       "v128  0.019486 -0.268033  0.054684  ... -0.372598 -0.043031 -0.256838   \n",
       "v129 -0.019332 -0.035212  0.505573  ... -0.090282  0.005121 -0.101049   \n",
       "v130  0.323090  0.084667 -0.072778  ...  0.809328 -0.190182  0.727563   \n",
       "v131 -0.036547 -0.158470  0.045021  ... -0.249248 -0.015075 -0.179715   \n",
       "\n",
       "          v124      v126      v127      v128      v129      v130      v131  \n",
       "ID    0.001076 -0.003765  0.002461  0.001904 -0.004063  0.010092 -0.003948  \n",
       "v1    0.164169  0.025936 -0.018762 -0.010806 -0.015788  0.253119  0.709122  \n",
       "v2   -0.261420 -0.111644  0.011387  0.259107  0.074142 -0.576703  0.183870  \n",
       "v4   -0.063270 -0.130919  0.299857  0.487635  0.109600 -0.702047  0.304914  \n",
       "v5    0.080085 -0.102563 -0.224641  0.600132  0.045623 -0.240718  0.153459  \n",
       "...        ...       ...       ...       ...       ...       ...       ...  \n",
       "v127 -0.050666 -0.079944  1.000000 -0.161000 -0.001564 -0.244848  0.054744  \n",
       "v128  0.279839 -0.154822 -0.161000  1.000000  0.059893 -0.287794  0.243623  \n",
       "v129 -0.009529 -0.024423 -0.001564  0.059893  1.000000 -0.082056  0.045038  \n",
       "v130  0.227784  0.080568 -0.244848 -0.287794 -0.082056  1.000000 -0.264040  \n",
       "v131  0.030289 -0.030868  0.054744  0.243623  0.045038 -0.264040  1.000000  \n",
       "\n",
       "[113 rows x 113 columns]"
      ]
     },
     "execution_count": 55,
     "metadata": {},
     "output_type": "execute_result"
    }
   ],
   "source": [
    "corelation_matrix"
   ]
  },
  {
   "cell_type": "code",
   "execution_count": 58,
   "id": "e87a8a89-c4d6-4f9e-863e-5518102e9fe5",
   "metadata": {},
   "outputs": [],
   "source": [
    "# Column name will correlation > 80%\n",
    "for i in range(len(corelation_matrix.columns)):\n",
    "    for j in range(i):\n",
    "        if abs(corelation_matrix.iloc[i, j]) > 0.8:\n",
    "            colname = corelation_matrix.columns[i]\n",
    "            correlated_features.add(colname)"
   ]
  },
  {
   "cell_type": "code",
   "execution_count": 59,
   "id": "d0c72f09-798f-4510-a4d9-e686c7b65f96",
   "metadata": {},
   "outputs": [
    {
     "data": {
      "text/plain": [
       "55"
      ]
     },
     "execution_count": 59,
     "metadata": {},
     "output_type": "execute_result"
    }
   ],
   "source": [
    "len(correlated_features)"
   ]
  },
  {
   "cell_type": "code",
   "execution_count": 60,
   "id": "66b1f19c-2186-4061-aaa1-e18ee5a04221",
   "metadata": {},
   "outputs": [],
   "source": [
    "x = x.drop(correlated_features, axis = 1)"
   ]
  },
  {
   "cell_type": "code",
   "execution_count": 61,
   "id": "e2a4c92d-00c0-4269-b195-170229374f61",
   "metadata": {},
   "outputs": [
    {
     "data": {
      "text/plain": [
       "(20000, 58)"
      ]
     },
     "execution_count": 61,
     "metadata": {},
     "output_type": "execute_result"
    }
   ],
   "source": [
    "x.shape"
   ]
  },
  {
   "cell_type": "markdown",
   "id": "f8551bf8-90fb-4e1f-85f3-b203fc0e1c8d",
   "metadata": {},
   "source": [
    "##### Chi2 Technique"
   ]
  },
  {
   "cell_type": "code",
   "execution_count": 62,
   "id": "81f3ade2-ed0b-43a7-97c3-d56a3a7e02db",
   "metadata": {},
   "outputs": [],
   "source": [
    "# Dataset: wisc_bc_data.csv\n",
    "# Location: https://mitu.co.in/dataset"
   ]
  },
  {
   "cell_type": "code",
   "execution_count": 63,
   "id": "ba3d3bce-9037-4118-81e8-a1c766f0e50b",
   "metadata": {},
   "outputs": [],
   "source": [
    "df = pd.read_csv('datasets/wisc_bc_data.csv')"
   ]
  },
  {
   "cell_type": "code",
   "execution_count": 64,
   "id": "4e6e2a47-2b73-41da-bd63-880be4f112c8",
   "metadata": {},
   "outputs": [
    {
     "data": {
      "text/plain": [
       "(569, 32)"
      ]
     },
     "execution_count": 64,
     "metadata": {},
     "output_type": "execute_result"
    }
   ],
   "source": [
    "df.shape"
   ]
  },
  {
   "cell_type": "code",
   "execution_count": 65,
   "id": "6c244571-922f-4a21-8873-301428c11a02",
   "metadata": {},
   "outputs": [
    {
     "data": {
      "text/html": [
       "<div>\n",
       "<style scoped>\n",
       "    .dataframe tbody tr th:only-of-type {\n",
       "        vertical-align: middle;\n",
       "    }\n",
       "\n",
       "    .dataframe tbody tr th {\n",
       "        vertical-align: top;\n",
       "    }\n",
       "\n",
       "    .dataframe thead th {\n",
       "        text-align: right;\n",
       "    }\n",
       "</style>\n",
       "<table border=\"1\" class=\"dataframe\">\n",
       "  <thead>\n",
       "    <tr style=\"text-align: right;\">\n",
       "      <th></th>\n",
       "      <th>id</th>\n",
       "      <th>diagnosis</th>\n",
       "      <th>radius_mean</th>\n",
       "      <th>texture_mean</th>\n",
       "      <th>perimeter_mean</th>\n",
       "      <th>area_mean</th>\n",
       "      <th>smoothness_mean</th>\n",
       "      <th>compactness_mean</th>\n",
       "      <th>concavity_mean</th>\n",
       "      <th>concave points_mean</th>\n",
       "      <th>...</th>\n",
       "      <th>radius_worst</th>\n",
       "      <th>texture_worst</th>\n",
       "      <th>perimeter_worst</th>\n",
       "      <th>area_worst</th>\n",
       "      <th>smoothness_worst</th>\n",
       "      <th>compactness_worst</th>\n",
       "      <th>concavity_worst</th>\n",
       "      <th>concave points_worst</th>\n",
       "      <th>symmetry_worst</th>\n",
       "      <th>fractal_dimension_worst</th>\n",
       "    </tr>\n",
       "  </thead>\n",
       "  <tbody>\n",
       "    <tr>\n",
       "      <th>0</th>\n",
       "      <td>842302</td>\n",
       "      <td>M</td>\n",
       "      <td>17.99</td>\n",
       "      <td>10.38</td>\n",
       "      <td>122.80</td>\n",
       "      <td>1001.0</td>\n",
       "      <td>0.11840</td>\n",
       "      <td>0.27760</td>\n",
       "      <td>0.30010</td>\n",
       "      <td>0.14710</td>\n",
       "      <td>...</td>\n",
       "      <td>25.380</td>\n",
       "      <td>17.33</td>\n",
       "      <td>184.60</td>\n",
       "      <td>2019.0</td>\n",
       "      <td>0.16220</td>\n",
       "      <td>0.66560</td>\n",
       "      <td>0.7119</td>\n",
       "      <td>0.2654</td>\n",
       "      <td>0.4601</td>\n",
       "      <td>0.11890</td>\n",
       "    </tr>\n",
       "    <tr>\n",
       "      <th>1</th>\n",
       "      <td>842517</td>\n",
       "      <td>M</td>\n",
       "      <td>20.57</td>\n",
       "      <td>17.77</td>\n",
       "      <td>132.90</td>\n",
       "      <td>1326.0</td>\n",
       "      <td>0.08474</td>\n",
       "      <td>0.07864</td>\n",
       "      <td>0.08690</td>\n",
       "      <td>0.07017</td>\n",
       "      <td>...</td>\n",
       "      <td>24.990</td>\n",
       "      <td>23.41</td>\n",
       "      <td>158.80</td>\n",
       "      <td>1956.0</td>\n",
       "      <td>0.12380</td>\n",
       "      <td>0.18660</td>\n",
       "      <td>0.2416</td>\n",
       "      <td>0.1860</td>\n",
       "      <td>0.2750</td>\n",
       "      <td>0.08902</td>\n",
       "    </tr>\n",
       "    <tr>\n",
       "      <th>2</th>\n",
       "      <td>84300903</td>\n",
       "      <td>M</td>\n",
       "      <td>19.69</td>\n",
       "      <td>21.25</td>\n",
       "      <td>130.00</td>\n",
       "      <td>1203.0</td>\n",
       "      <td>0.10960</td>\n",
       "      <td>0.15990</td>\n",
       "      <td>0.19740</td>\n",
       "      <td>0.12790</td>\n",
       "      <td>...</td>\n",
       "      <td>23.570</td>\n",
       "      <td>25.53</td>\n",
       "      <td>152.50</td>\n",
       "      <td>1709.0</td>\n",
       "      <td>0.14440</td>\n",
       "      <td>0.42450</td>\n",
       "      <td>0.4504</td>\n",
       "      <td>0.2430</td>\n",
       "      <td>0.3613</td>\n",
       "      <td>0.08758</td>\n",
       "    </tr>\n",
       "    <tr>\n",
       "      <th>3</th>\n",
       "      <td>84348301</td>\n",
       "      <td>M</td>\n",
       "      <td>11.42</td>\n",
       "      <td>20.38</td>\n",
       "      <td>77.58</td>\n",
       "      <td>386.1</td>\n",
       "      <td>0.14250</td>\n",
       "      <td>0.28390</td>\n",
       "      <td>0.24140</td>\n",
       "      <td>0.10520</td>\n",
       "      <td>...</td>\n",
       "      <td>14.910</td>\n",
       "      <td>26.50</td>\n",
       "      <td>98.87</td>\n",
       "      <td>567.7</td>\n",
       "      <td>0.20980</td>\n",
       "      <td>0.86630</td>\n",
       "      <td>0.6869</td>\n",
       "      <td>0.2575</td>\n",
       "      <td>0.6638</td>\n",
       "      <td>0.17300</td>\n",
       "    </tr>\n",
       "    <tr>\n",
       "      <th>4</th>\n",
       "      <td>84358402</td>\n",
       "      <td>M</td>\n",
       "      <td>20.29</td>\n",
       "      <td>14.34</td>\n",
       "      <td>135.10</td>\n",
       "      <td>1297.0</td>\n",
       "      <td>0.10030</td>\n",
       "      <td>0.13280</td>\n",
       "      <td>0.19800</td>\n",
       "      <td>0.10430</td>\n",
       "      <td>...</td>\n",
       "      <td>22.540</td>\n",
       "      <td>16.67</td>\n",
       "      <td>152.20</td>\n",
       "      <td>1575.0</td>\n",
       "      <td>0.13740</td>\n",
       "      <td>0.20500</td>\n",
       "      <td>0.4000</td>\n",
       "      <td>0.1625</td>\n",
       "      <td>0.2364</td>\n",
       "      <td>0.07678</td>\n",
       "    </tr>\n",
       "    <tr>\n",
       "      <th>...</th>\n",
       "      <td>...</td>\n",
       "      <td>...</td>\n",
       "      <td>...</td>\n",
       "      <td>...</td>\n",
       "      <td>...</td>\n",
       "      <td>...</td>\n",
       "      <td>...</td>\n",
       "      <td>...</td>\n",
       "      <td>...</td>\n",
       "      <td>...</td>\n",
       "      <td>...</td>\n",
       "      <td>...</td>\n",
       "      <td>...</td>\n",
       "      <td>...</td>\n",
       "      <td>...</td>\n",
       "      <td>...</td>\n",
       "      <td>...</td>\n",
       "      <td>...</td>\n",
       "      <td>...</td>\n",
       "      <td>...</td>\n",
       "      <td>...</td>\n",
       "    </tr>\n",
       "    <tr>\n",
       "      <th>564</th>\n",
       "      <td>926424</td>\n",
       "      <td>M</td>\n",
       "      <td>21.56</td>\n",
       "      <td>22.39</td>\n",
       "      <td>142.00</td>\n",
       "      <td>1479.0</td>\n",
       "      <td>0.11100</td>\n",
       "      <td>0.11590</td>\n",
       "      <td>0.24390</td>\n",
       "      <td>0.13890</td>\n",
       "      <td>...</td>\n",
       "      <td>25.450</td>\n",
       "      <td>26.40</td>\n",
       "      <td>166.10</td>\n",
       "      <td>2027.0</td>\n",
       "      <td>0.14100</td>\n",
       "      <td>0.21130</td>\n",
       "      <td>0.4107</td>\n",
       "      <td>0.2216</td>\n",
       "      <td>0.2060</td>\n",
       "      <td>0.07115</td>\n",
       "    </tr>\n",
       "    <tr>\n",
       "      <th>565</th>\n",
       "      <td>926682</td>\n",
       "      <td>M</td>\n",
       "      <td>20.13</td>\n",
       "      <td>28.25</td>\n",
       "      <td>131.20</td>\n",
       "      <td>1261.0</td>\n",
       "      <td>0.09780</td>\n",
       "      <td>0.10340</td>\n",
       "      <td>0.14400</td>\n",
       "      <td>0.09791</td>\n",
       "      <td>...</td>\n",
       "      <td>23.690</td>\n",
       "      <td>38.25</td>\n",
       "      <td>155.00</td>\n",
       "      <td>1731.0</td>\n",
       "      <td>0.11660</td>\n",
       "      <td>0.19220</td>\n",
       "      <td>0.3215</td>\n",
       "      <td>0.1628</td>\n",
       "      <td>0.2572</td>\n",
       "      <td>0.06637</td>\n",
       "    </tr>\n",
       "    <tr>\n",
       "      <th>566</th>\n",
       "      <td>926954</td>\n",
       "      <td>M</td>\n",
       "      <td>16.60</td>\n",
       "      <td>28.08</td>\n",
       "      <td>108.30</td>\n",
       "      <td>858.1</td>\n",
       "      <td>0.08455</td>\n",
       "      <td>0.10230</td>\n",
       "      <td>0.09251</td>\n",
       "      <td>0.05302</td>\n",
       "      <td>...</td>\n",
       "      <td>18.980</td>\n",
       "      <td>34.12</td>\n",
       "      <td>126.70</td>\n",
       "      <td>1124.0</td>\n",
       "      <td>0.11390</td>\n",
       "      <td>0.30940</td>\n",
       "      <td>0.3403</td>\n",
       "      <td>0.1418</td>\n",
       "      <td>0.2218</td>\n",
       "      <td>0.07820</td>\n",
       "    </tr>\n",
       "    <tr>\n",
       "      <th>567</th>\n",
       "      <td>927241</td>\n",
       "      <td>M</td>\n",
       "      <td>20.60</td>\n",
       "      <td>29.33</td>\n",
       "      <td>140.10</td>\n",
       "      <td>1265.0</td>\n",
       "      <td>0.11780</td>\n",
       "      <td>0.27700</td>\n",
       "      <td>0.35140</td>\n",
       "      <td>0.15200</td>\n",
       "      <td>...</td>\n",
       "      <td>25.740</td>\n",
       "      <td>39.42</td>\n",
       "      <td>184.60</td>\n",
       "      <td>1821.0</td>\n",
       "      <td>0.16500</td>\n",
       "      <td>0.86810</td>\n",
       "      <td>0.9387</td>\n",
       "      <td>0.2650</td>\n",
       "      <td>0.4087</td>\n",
       "      <td>0.12400</td>\n",
       "    </tr>\n",
       "    <tr>\n",
       "      <th>568</th>\n",
       "      <td>92751</td>\n",
       "      <td>B</td>\n",
       "      <td>7.76</td>\n",
       "      <td>24.54</td>\n",
       "      <td>47.92</td>\n",
       "      <td>181.0</td>\n",
       "      <td>0.05263</td>\n",
       "      <td>0.04362</td>\n",
       "      <td>0.00000</td>\n",
       "      <td>0.00000</td>\n",
       "      <td>...</td>\n",
       "      <td>9.456</td>\n",
       "      <td>30.37</td>\n",
       "      <td>59.16</td>\n",
       "      <td>268.6</td>\n",
       "      <td>0.08996</td>\n",
       "      <td>0.06444</td>\n",
       "      <td>0.0000</td>\n",
       "      <td>0.0000</td>\n",
       "      <td>0.2871</td>\n",
       "      <td>0.07039</td>\n",
       "    </tr>\n",
       "  </tbody>\n",
       "</table>\n",
       "<p>569 rows × 32 columns</p>\n",
       "</div>"
      ],
      "text/plain": [
       "           id diagnosis  radius_mean  texture_mean  perimeter_mean  area_mean  \\\n",
       "0      842302         M        17.99         10.38          122.80     1001.0   \n",
       "1      842517         M        20.57         17.77          132.90     1326.0   \n",
       "2    84300903         M        19.69         21.25          130.00     1203.0   \n",
       "3    84348301         M        11.42         20.38           77.58      386.1   \n",
       "4    84358402         M        20.29         14.34          135.10     1297.0   \n",
       "..        ...       ...          ...           ...             ...        ...   \n",
       "564    926424         M        21.56         22.39          142.00     1479.0   \n",
       "565    926682         M        20.13         28.25          131.20     1261.0   \n",
       "566    926954         M        16.60         28.08          108.30      858.1   \n",
       "567    927241         M        20.60         29.33          140.10     1265.0   \n",
       "568     92751         B         7.76         24.54           47.92      181.0   \n",
       "\n",
       "     smoothness_mean  compactness_mean  concavity_mean  concave points_mean  \\\n",
       "0            0.11840           0.27760         0.30010              0.14710   \n",
       "1            0.08474           0.07864         0.08690              0.07017   \n",
       "2            0.10960           0.15990         0.19740              0.12790   \n",
       "3            0.14250           0.28390         0.24140              0.10520   \n",
       "4            0.10030           0.13280         0.19800              0.10430   \n",
       "..               ...               ...             ...                  ...   \n",
       "564          0.11100           0.11590         0.24390              0.13890   \n",
       "565          0.09780           0.10340         0.14400              0.09791   \n",
       "566          0.08455           0.10230         0.09251              0.05302   \n",
       "567          0.11780           0.27700         0.35140              0.15200   \n",
       "568          0.05263           0.04362         0.00000              0.00000   \n",
       "\n",
       "     ...  radius_worst  texture_worst  perimeter_worst  area_worst  \\\n",
       "0    ...        25.380          17.33           184.60      2019.0   \n",
       "1    ...        24.990          23.41           158.80      1956.0   \n",
       "2    ...        23.570          25.53           152.50      1709.0   \n",
       "3    ...        14.910          26.50            98.87       567.7   \n",
       "4    ...        22.540          16.67           152.20      1575.0   \n",
       "..   ...           ...            ...              ...         ...   \n",
       "564  ...        25.450          26.40           166.10      2027.0   \n",
       "565  ...        23.690          38.25           155.00      1731.0   \n",
       "566  ...        18.980          34.12           126.70      1124.0   \n",
       "567  ...        25.740          39.42           184.60      1821.0   \n",
       "568  ...         9.456          30.37            59.16       268.6   \n",
       "\n",
       "     smoothness_worst  compactness_worst  concavity_worst  \\\n",
       "0             0.16220            0.66560           0.7119   \n",
       "1             0.12380            0.18660           0.2416   \n",
       "2             0.14440            0.42450           0.4504   \n",
       "3             0.20980            0.86630           0.6869   \n",
       "4             0.13740            0.20500           0.4000   \n",
       "..                ...                ...              ...   \n",
       "564           0.14100            0.21130           0.4107   \n",
       "565           0.11660            0.19220           0.3215   \n",
       "566           0.11390            0.30940           0.3403   \n",
       "567           0.16500            0.86810           0.9387   \n",
       "568           0.08996            0.06444           0.0000   \n",
       "\n",
       "     concave points_worst  symmetry_worst  fractal_dimension_worst  \n",
       "0                  0.2654          0.4601                  0.11890  \n",
       "1                  0.1860          0.2750                  0.08902  \n",
       "2                  0.2430          0.3613                  0.08758  \n",
       "3                  0.2575          0.6638                  0.17300  \n",
       "4                  0.1625          0.2364                  0.07678  \n",
       "..                    ...             ...                      ...  \n",
       "564                0.2216          0.2060                  0.07115  \n",
       "565                0.1628          0.2572                  0.06637  \n",
       "566                0.1418          0.2218                  0.07820  \n",
       "567                0.2650          0.4087                  0.12400  \n",
       "568                0.0000          0.2871                  0.07039  \n",
       "\n",
       "[569 rows x 32 columns]"
      ]
     },
     "execution_count": 65,
     "metadata": {},
     "output_type": "execute_result"
    }
   ],
   "source": [
    "df"
   ]
  },
  {
   "cell_type": "code",
   "execution_count": 66,
   "id": "af546552-9b8c-4eff-82c7-a48049ae0b07",
   "metadata": {},
   "outputs": [],
   "source": [
    "x = df.drop(['id','diagnosis'], axis = 1)"
   ]
  },
  {
   "cell_type": "code",
   "execution_count": 67,
   "id": "59f4d819-c52a-4fda-9875-e5db0660c255",
   "metadata": {},
   "outputs": [
    {
     "data": {
      "text/plain": [
       "(569, 30)"
      ]
     },
     "execution_count": 67,
     "metadata": {},
     "output_type": "execute_result"
    }
   ],
   "source": [
    "x.shape"
   ]
  },
  {
   "cell_type": "code",
   "execution_count": 69,
   "id": "5f8538ec-302b-4570-bac7-02a2ba35e724",
   "metadata": {},
   "outputs": [],
   "source": [
    "from sklearn.feature_selection import SelectKBest, chi2"
   ]
  },
  {
   "cell_type": "code",
   "execution_count": 70,
   "id": "18b3f19e-224e-451d-94f6-4c66c00cdd13",
   "metadata": {},
   "outputs": [],
   "source": [
    "skf = SelectKBest(k=5, score_func=chi2)"
   ]
  },
  {
   "cell_type": "code",
   "execution_count": 71,
   "id": "3bb3e356-aebb-49a9-82d8-6bc76d690a14",
   "metadata": {},
   "outputs": [
    {
     "data": {
      "text/html": [
       "<style>#sk-container-id-2 {color: black;background-color: white;}#sk-container-id-2 pre{padding: 0;}#sk-container-id-2 div.sk-toggleable {background-color: white;}#sk-container-id-2 label.sk-toggleable__label {cursor: pointer;display: block;width: 100%;margin-bottom: 0;padding: 0.3em;box-sizing: border-box;text-align: center;}#sk-container-id-2 label.sk-toggleable__label-arrow:before {content: \"▸\";float: left;margin-right: 0.25em;color: #696969;}#sk-container-id-2 label.sk-toggleable__label-arrow:hover:before {color: black;}#sk-container-id-2 div.sk-estimator:hover label.sk-toggleable__label-arrow:before {color: black;}#sk-container-id-2 div.sk-toggleable__content {max-height: 0;max-width: 0;overflow: hidden;text-align: left;background-color: #f0f8ff;}#sk-container-id-2 div.sk-toggleable__content pre {margin: 0.2em;color: black;border-radius: 0.25em;background-color: #f0f8ff;}#sk-container-id-2 input.sk-toggleable__control:checked~div.sk-toggleable__content {max-height: 200px;max-width: 100%;overflow: auto;}#sk-container-id-2 input.sk-toggleable__control:checked~label.sk-toggleable__label-arrow:before {content: \"▾\";}#sk-container-id-2 div.sk-estimator input.sk-toggleable__control:checked~label.sk-toggleable__label {background-color: #d4ebff;}#sk-container-id-2 div.sk-label input.sk-toggleable__control:checked~label.sk-toggleable__label {background-color: #d4ebff;}#sk-container-id-2 input.sk-hidden--visually {border: 0;clip: rect(1px 1px 1px 1px);clip: rect(1px, 1px, 1px, 1px);height: 1px;margin: -1px;overflow: hidden;padding: 0;position: absolute;width: 1px;}#sk-container-id-2 div.sk-estimator {font-family: monospace;background-color: #f0f8ff;border: 1px dotted black;border-radius: 0.25em;box-sizing: border-box;margin-bottom: 0.5em;}#sk-container-id-2 div.sk-estimator:hover {background-color: #d4ebff;}#sk-container-id-2 div.sk-parallel-item::after {content: \"\";width: 100%;border-bottom: 1px solid gray;flex-grow: 1;}#sk-container-id-2 div.sk-label:hover label.sk-toggleable__label {background-color: #d4ebff;}#sk-container-id-2 div.sk-serial::before {content: \"\";position: absolute;border-left: 1px solid gray;box-sizing: border-box;top: 0;bottom: 0;left: 50%;z-index: 0;}#sk-container-id-2 div.sk-serial {display: flex;flex-direction: column;align-items: center;background-color: white;padding-right: 0.2em;padding-left: 0.2em;position: relative;}#sk-container-id-2 div.sk-item {position: relative;z-index: 1;}#sk-container-id-2 div.sk-parallel {display: flex;align-items: stretch;justify-content: center;background-color: white;position: relative;}#sk-container-id-2 div.sk-item::before, #sk-container-id-2 div.sk-parallel-item::before {content: \"\";position: absolute;border-left: 1px solid gray;box-sizing: border-box;top: 0;bottom: 0;left: 50%;z-index: -1;}#sk-container-id-2 div.sk-parallel-item {display: flex;flex-direction: column;z-index: 1;position: relative;background-color: white;}#sk-container-id-2 div.sk-parallel-item:first-child::after {align-self: flex-end;width: 50%;}#sk-container-id-2 div.sk-parallel-item:last-child::after {align-self: flex-start;width: 50%;}#sk-container-id-2 div.sk-parallel-item:only-child::after {width: 0;}#sk-container-id-2 div.sk-dashed-wrapped {border: 1px dashed gray;margin: 0 0.4em 0.5em 0.4em;box-sizing: border-box;padding-bottom: 0.4em;background-color: white;}#sk-container-id-2 div.sk-label label {font-family: monospace;font-weight: bold;display: inline-block;line-height: 1.2em;}#sk-container-id-2 div.sk-label-container {text-align: center;}#sk-container-id-2 div.sk-container {/* jupyter's `normalize.less` sets `[hidden] { display: none; }` but bootstrap.min.css set `[hidden] { display: none !important; }` so we also need the `!important` here to be able to override the default hidden behavior on the sphinx rendered scikit-learn.org. See: https://github.com/scikit-learn/scikit-learn/issues/21755 */display: inline-block !important;position: relative;}#sk-container-id-2 div.sk-text-repr-fallback {display: none;}</style><div id=\"sk-container-id-2\" class=\"sk-top-container\"><div class=\"sk-text-repr-fallback\"><pre>SelectKBest(k=5, score_func=&lt;function chi2 at 0x00000204B5C6D940&gt;)</pre><b>In a Jupyter environment, please rerun this cell to show the HTML representation or trust the notebook. <br />On GitHub, the HTML representation is unable to render, please try loading this page with nbviewer.org.</b></div><div class=\"sk-container\" hidden><div class=\"sk-item\"><div class=\"sk-estimator sk-toggleable\"><input class=\"sk-toggleable__control sk-hidden--visually\" id=\"sk-estimator-id-2\" type=\"checkbox\" checked><label for=\"sk-estimator-id-2\" class=\"sk-toggleable__label sk-toggleable__label-arrow\">SelectKBest</label><div class=\"sk-toggleable__content\"><pre>SelectKBest(k=5, score_func=&lt;function chi2 at 0x00000204B5C6D940&gt;)</pre></div></div></div></div></div>"
      ],
      "text/plain": [
       "SelectKBest(k=5, score_func=<function chi2 at 0x00000204B5C6D940>)"
      ]
     },
     "execution_count": 71,
     "metadata": {},
     "output_type": "execute_result"
    }
   ],
   "source": [
    "skf.fit(x, df['diagnosis'])"
   ]
  },
  {
   "cell_type": "code",
   "execution_count": 72,
   "id": "35ff6bb5-dc62-44ed-b3b5-b08f0f263dc5",
   "metadata": {},
   "outputs": [
    {
     "data": {
      "text/plain": [
       "array([False, False,  True,  True, False, False, False, False, False,\n",
       "       False, False, False, False,  True, False, False, False, False,\n",
       "       False, False, False, False,  True,  True, False, False, False,\n",
       "       False, False, False])"
      ]
     },
     "execution_count": 72,
     "metadata": {},
     "output_type": "execute_result"
    }
   ],
   "source": [
    "skf.get_support()"
   ]
  },
  {
   "cell_type": "code",
   "execution_count": 73,
   "id": "807654eb-5b04-4863-bf72-d772499641e0",
   "metadata": {},
   "outputs": [
    {
     "data": {
      "text/html": [
       "<div>\n",
       "<style scoped>\n",
       "    .dataframe tbody tr th:only-of-type {\n",
       "        vertical-align: middle;\n",
       "    }\n",
       "\n",
       "    .dataframe tbody tr th {\n",
       "        vertical-align: top;\n",
       "    }\n",
       "\n",
       "    .dataframe thead th {\n",
       "        text-align: right;\n",
       "    }\n",
       "</style>\n",
       "<table border=\"1\" class=\"dataframe\">\n",
       "  <thead>\n",
       "    <tr style=\"text-align: right;\">\n",
       "      <th></th>\n",
       "      <th>perimeter_mean</th>\n",
       "      <th>area_mean</th>\n",
       "      <th>area_se</th>\n",
       "      <th>perimeter_worst</th>\n",
       "      <th>area_worst</th>\n",
       "    </tr>\n",
       "  </thead>\n",
       "  <tbody>\n",
       "    <tr>\n",
       "      <th>0</th>\n",
       "      <td>122.80</td>\n",
       "      <td>1001.0</td>\n",
       "      <td>153.40</td>\n",
       "      <td>184.60</td>\n",
       "      <td>2019.0</td>\n",
       "    </tr>\n",
       "    <tr>\n",
       "      <th>1</th>\n",
       "      <td>132.90</td>\n",
       "      <td>1326.0</td>\n",
       "      <td>74.08</td>\n",
       "      <td>158.80</td>\n",
       "      <td>1956.0</td>\n",
       "    </tr>\n",
       "    <tr>\n",
       "      <th>2</th>\n",
       "      <td>130.00</td>\n",
       "      <td>1203.0</td>\n",
       "      <td>94.03</td>\n",
       "      <td>152.50</td>\n",
       "      <td>1709.0</td>\n",
       "    </tr>\n",
       "    <tr>\n",
       "      <th>3</th>\n",
       "      <td>77.58</td>\n",
       "      <td>386.1</td>\n",
       "      <td>27.23</td>\n",
       "      <td>98.87</td>\n",
       "      <td>567.7</td>\n",
       "    </tr>\n",
       "    <tr>\n",
       "      <th>4</th>\n",
       "      <td>135.10</td>\n",
       "      <td>1297.0</td>\n",
       "      <td>94.44</td>\n",
       "      <td>152.20</td>\n",
       "      <td>1575.0</td>\n",
       "    </tr>\n",
       "    <tr>\n",
       "      <th>...</th>\n",
       "      <td>...</td>\n",
       "      <td>...</td>\n",
       "      <td>...</td>\n",
       "      <td>...</td>\n",
       "      <td>...</td>\n",
       "    </tr>\n",
       "    <tr>\n",
       "      <th>564</th>\n",
       "      <td>142.00</td>\n",
       "      <td>1479.0</td>\n",
       "      <td>158.70</td>\n",
       "      <td>166.10</td>\n",
       "      <td>2027.0</td>\n",
       "    </tr>\n",
       "    <tr>\n",
       "      <th>565</th>\n",
       "      <td>131.20</td>\n",
       "      <td>1261.0</td>\n",
       "      <td>99.04</td>\n",
       "      <td>155.00</td>\n",
       "      <td>1731.0</td>\n",
       "    </tr>\n",
       "    <tr>\n",
       "      <th>566</th>\n",
       "      <td>108.30</td>\n",
       "      <td>858.1</td>\n",
       "      <td>48.55</td>\n",
       "      <td>126.70</td>\n",
       "      <td>1124.0</td>\n",
       "    </tr>\n",
       "    <tr>\n",
       "      <th>567</th>\n",
       "      <td>140.10</td>\n",
       "      <td>1265.0</td>\n",
       "      <td>86.22</td>\n",
       "      <td>184.60</td>\n",
       "      <td>1821.0</td>\n",
       "    </tr>\n",
       "    <tr>\n",
       "      <th>568</th>\n",
       "      <td>47.92</td>\n",
       "      <td>181.0</td>\n",
       "      <td>19.15</td>\n",
       "      <td>59.16</td>\n",
       "      <td>268.6</td>\n",
       "    </tr>\n",
       "  </tbody>\n",
       "</table>\n",
       "<p>569 rows × 5 columns</p>\n",
       "</div>"
      ],
      "text/plain": [
       "     perimeter_mean  area_mean  area_se  perimeter_worst  area_worst\n",
       "0            122.80     1001.0   153.40           184.60      2019.0\n",
       "1            132.90     1326.0    74.08           158.80      1956.0\n",
       "2            130.00     1203.0    94.03           152.50      1709.0\n",
       "3             77.58      386.1    27.23            98.87       567.7\n",
       "4            135.10     1297.0    94.44           152.20      1575.0\n",
       "..              ...        ...      ...              ...         ...\n",
       "564          142.00     1479.0   158.70           166.10      2027.0\n",
       "565          131.20     1261.0    99.04           155.00      1731.0\n",
       "566          108.30      858.1    48.55           126.70      1124.0\n",
       "567          140.10     1265.0    86.22           184.60      1821.0\n",
       "568           47.92      181.0    19.15            59.16       268.6\n",
       "\n",
       "[569 rows x 5 columns]"
      ]
     },
     "execution_count": 73,
     "metadata": {},
     "output_type": "execute_result"
    }
   ],
   "source": [
    "x.iloc[:, skf.get_support()]"
   ]
  },
  {
   "cell_type": "code",
   "execution_count": null,
   "id": "f63b2b47-0fb2-4f66-9905-4a5899c070d6",
   "metadata": {},
   "outputs": [],
   "source": []
  }
 ],
 "metadata": {
  "kernelspec": {
   "display_name": "Python 3 (ipykernel)",
   "language": "python",
   "name": "python3"
  },
  "language_info": {
   "codemirror_mode": {
    "name": "ipython",
    "version": 3
   },
   "file_extension": ".py",
   "mimetype": "text/x-python",
   "name": "python",
   "nbconvert_exporter": "python",
   "pygments_lexer": "ipython3",
   "version": "3.11.7"
  }
 },
 "nbformat": 4,
 "nbformat_minor": 5
}
